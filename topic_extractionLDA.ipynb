{
 "cells": [
  {
   "cell_type": "code",
   "execution_count": null,
   "id": "973c8ef4-3cf4-497e-903f-7edb58b3df7b",
   "metadata": {},
   "outputs": [],
   "source": [
    "#https://www.machinelearningplus.com/nlp/topic-modeling-gensim-python/#1introduction\n",
    "!pip install gensim\n",
    "!pip install pyLDAvis\n",
    "!pip install nltk\n",
    "import numpy as np\n",
    "import json\n",
    "import glob\n",
    "import pandas\n",
    "pandas.set_option('display.max_colwidth', None)\n",
    "from sklearn.feature_extraction.text import TfidfVectorizer\n",
    "from sklearn.metrics.pairwise import cosine_similarity\n",
    "from sklearn.feature_extraction.text import CountVectorizer\n",
    "\n",
    "\n",
    "\n",
    "#Gensim\n",
    "import gensim\n",
    "import gensim.corpora as corpora\n",
    "from gensim import models\n",
    "from gensim.utils import simple_preprocess\n",
    "from gensim.models import CoherenceModel\n",
    "from gensim.models import Phrases\n",
    "from gensim.models.phrases import Phraser\n",
    "\n",
    "\n",
    "#spacy\n",
    "import spacy\n",
    "from nltk.corpus import stopwords\n",
    "\n",
    "#vis\n",
    "import pyLDAvis\n",
    "import pyLDAvis.gensim_models\n",
    "\n",
    "import warnings\n",
    "warnings.filterwarnings(\"ignore\", category=DeprecationWarning)"
   ]
  },
  {
   "cell_type": "code",
   "execution_count": null,
   "id": "373b3821-560b-4be9-b60c-3548193f76ea",
   "metadata": {},
   "outputs": [],
   "source": [
    "def add_hours(minDate:str,maxDate:str)-> (str,str):\n",
    "\tminDate = minDate + \"00:00:00\"\n",
    "\tmaxDate = maxDate + \"23:59:59\"\n",
    "\n",
    "\treturn minDate,maxDate\n",
    "\n",
    "def get_comments(originPath:str,minDate:str = None,maxDate:str = None,versions = None) -> pandas.DataFrame:\n",
    "\t\n",
    "\tcommentsFile = pandas.read_csv(originPath)\n",
    "\n",
    "\tif minDate != None and maxDate != None:\n",
    "\t\tminDate,maxDate = add_hours(minDate,maxDate)\n",
    "\n",
    "\tfor i in range(0, len(commentsFile)):\n",
    "\t\tif commentsFile['date'][i] < minDate or commentsFile['date'][i] > maxDate or commentsFile['version'][i] not in versions:\n",
    "\t\t\t#print(\"droped\",commentsFile['version'][i])\n",
    "\t\t\tcommentsFile = commentsFile.drop([i])\n",
    "\treturn commentsFile\n",
    "\n",
    "def lemmatization(texts, allowed_postags):\n",
    "    nlp = spacy.load(\"pt_core_news_sm\")\n",
    "    texts_out = []\n",
    "    for text in texts:\n",
    "        doc = nlp(text)\n",
    "        new_text = []\n",
    "        for token in doc:\n",
    "            if token.pos_ in allowed_postags:\n",
    "                new_text.append(token.lemma_)\n",
    "        final = \" \".join(new_text)\n",
    "        texts_out.append(final)\n",
    "    return (texts_out)\n",
    "\n",
    "def gen_words(texts):\n",
    "    final = []\n",
    "    for text in texts:\n",
    "        new = gensim.utils.simple_preprocess(text, deacc=True)\n",
    "        final.append(new)\n",
    "    return (final)"
   ]
  },
  {
   "cell_type": "code",
   "execution_count": null,
   "id": "85dada93-f8a9-4f55-b0db-3afba0acee03",
   "metadata": {},
   "outputs": [],
   "source": [
    "database = get_comments(\"./General_Data.csv\",\"2021-01-01\",\"2021-10-20\",\"70.4.0\")\n",
    "data = database['content']"
   ]
  },
  {
   "cell_type": "code",
   "execution_count": null,
   "id": "4d70c852-fa65-4612-a688-adb5ba507b4a",
   "metadata": {},
   "outputs": [],
   "source": [
    "score1 = database[database['score'] == 1]\n",
    "data = score1['content'] # selectionando apenas os comentários com nota = 1"
   ]
  },
  {
   "cell_type": "code",
   "execution_count": null,
   "id": "f15262ad-9d9c-4235-95f7-00247a3376cd",
   "metadata": {},
   "outputs": [],
   "source": [
    "lemmatized_texts = lemmatization(data, [\"NOUN\", \"VERB\", \"NUM\", \"ADV\", \"ADJ\"])\n",
    "print (lemmatized_texts[0])"
   ]
  },
  {
   "cell_type": "code",
   "execution_count": null,
   "id": "6a74dd8d-0f80-4e13-9ed6-a5062cfb4cbb",
   "metadata": {},
   "outputs": [],
   "source": [
    "data_words = gen_words(lemmatized_texts)\n",
    "print (data_words[0])"
   ]
  },
  {
   "cell_type": "markdown",
   "id": "48191ab9-3438-458c-9e35-f03a7b4805f6",
   "metadata": {},
   "source": [
    "# Extraindo tópicos a partir de palavras unitárias (1-gram)¶"
   ]
  },
  {
   "cell_type": "code",
   "execution_count": null,
   "id": "96381a3c-b508-4f32-9a96-589e4d92adc8",
   "metadata": {},
   "outputs": [],
   "source": [
    "id2word = corpora.Dictionary(data_words)\n",
    "\n",
    "corpus = []\n",
    "for text in data_words:\n",
    "    new = id2word.doc2bow(text)\n",
    "    corpus.append(new)\n",
    "\n",
    "print (corpus[0])\n",
    "\n",
    "word = id2word[[7][:1][0]]\n",
    "print (word)"
   ]
  },
  {
   "cell_type": "code",
   "execution_count": null,
   "id": "383f1cec-fe2a-4947-9cd9-00df8bcc2536",
   "metadata": {},
   "outputs": [],
   "source": [
    "lda_model = gensim.models.ldamodel.LdaModel(corpus=corpus,\n",
    "                                           id2word=id2word,\n",
    "                                           num_topics=10,\n",
    "                                           random_state=1000,\n",
    "                                           update_every=1,\n",
    "                                           chunksize=100,\n",
    "                                           passes=10,\n",
    "                                           alpha=\"auto\")"
   ]
  },
  {
   "cell_type": "code",
   "execution_count": null,
   "id": "f469124d-ffa0-4d86-aafe-387412797edf",
   "metadata": {},
   "outputs": [],
   "source": [
    "pyLDAvis.enable_notebook()\n",
    "vis = pyLDAvis.gensim_models.prepare(lda_model, corpus, id2word, mds=\"mmds\", R=100)\n",
    "vis"
   ]
  },
  {
   "cell_type": "markdown",
   "id": "1e811785-93a3-444d-8b95-7c0fad36bdf2",
   "metadata": {},
   "source": [
    "# Extraindo tópicos em n-grams"
   ]
  },
  {
   "cell_type": "code",
   "execution_count": 25,
   "id": "99301d8d-9236-4ae8-8d5f-2009193a91d8",
   "metadata": {},
   "outputs": [
    {
     "name": "stdout",
     "output_type": "stream",
     "text": [
      "['cadastrar', 'aplicativo', 'pedir', 'mail', 'dizer', 'invalido', 'precisar', 'posicao']\n"
     ]
    }
   ],
   "source": [
    "N = 3 #qtde de ngrams\n",
    "print(data_words[0])\n",
    "ngrams = []\n",
    "for sentence in data_words:\n",
    "    ngrams_temp = []\n",
    "    tokens = list(sentence)\n",
    "    for i in range(0,len(tokens)-(N-1)):\n",
    "        new_text = tokens[i]\n",
    "        for k in range(1,N):\n",
    "            new_text = new_text + '_' + tokens[i+k]\n",
    "        ngrams_temp.append(new_text)\n",
    "    ngrams.append(ngrams_temp)"
   ]
  },
  {
   "cell_type": "code",
   "execution_count": 26,
   "id": "c693bde5-2ef3-4729-8671-66d9bfab4759",
   "metadata": {},
   "outputs": [],
   "source": [
    "id2ngram = corpora.Dictionary(ngrams)"
   ]
  },
  {
   "cell_type": "code",
   "execution_count": 27,
   "id": "ed52080a-2834-4e93-9329-a7b15c530777",
   "metadata": {},
   "outputs": [
    {
     "name": "stdout",
     "output_type": "stream",
     "text": [
      "[(0, 1), (1, 1), (2, 1), (3, 1), (4, 1), (5, 1)]\n"
     ]
    }
   ],
   "source": [
    "corpus_ngram = []\n",
    "for text in ngrams:\n",
    "    new = id2ngram.doc2bow(text)\n",
    "    corpus_ngram.append(new)\n",
    "\n",
    "print (corpus_ngram[0])"
   ]
  },
  {
   "cell_type": "code",
   "execution_count": 28,
   "id": "c9341805-f20c-4635-919c-1dfb3c1e2bcb",
   "metadata": {},
   "outputs": [],
   "source": [
    "lda_model_ngram = gensim.models.ldamodel.LdaModel(corpus=corpus_ngram,\n",
    "                                           id2word=id2ngram,\n",
    "                                           num_topics=5,\n",
    "                                           random_state=1000,\n",
    "                                           update_every=1,\n",
    "                                           chunksize=100,\n",
    "                                           passes=10,\n",
    "                                           alpha=\"auto\")"
   ]
  },
  {
   "cell_type": "code",
   "execution_count": 29,
   "id": "60d56d39-4a0e-43bf-805b-03c642f4070e",
   "metadata": {},
   "outputs": [
    {
     "name": "stderr",
     "output_type": "stream",
     "text": [
      "/srv/conda/envs/notebook/lib/python3.7/site-packages/pyLDAvis/_prepare.py:247: FutureWarning: In a future version of pandas all arguments of DataFrame.drop except for the argument 'labels' will be keyword-only\n",
      "  by='saliency', ascending=False).head(R).drop('saliency', 1)\n"
     ]
    },
    {
     "data": {
      "text/html": [
       "\n",
       "<link rel=\"stylesheet\" type=\"text/css\" href=\"https://cdn.jsdelivr.net/gh/bmabey/pyLDAvis@3.3.1/pyLDAvis/js/ldavis.v1.0.0.css\">\n",
       "\n",
       "\n",
       "<div id=\"ldavis_el1001402264054847522887421180\"></div>\n",
       "<script type=\"text/javascript\">\n",
       "\n",
       "var ldavis_el1001402264054847522887421180_data = {\"mdsDat\": {\"x\": [0.1740340697214266, -0.006406505856171161, -0.08824873789017045, -0.07717805962775608, -0.0022007663473289536], \"y\": [0.037970500640179136, 0.01880415924532091, -0.03841483956428588, 0.07485616802064547, -0.09321598834185964], \"topics\": [1, 2, 3, 4, 5], \"cluster\": [1, 1, 1, 1, 1], \"Freq\": [36.56710828577262, 16.44597312391734, 16.266632688717547, 15.915360726000499, 14.80492517559199]}, \"tinfo\": {\"Term\": [\"nao_conseguir_mais\", \"nao_conseguir_cadastrar\", \"opcao_criar_contar\", \"nao_ter_opcao\", \"atualizacao_nao_conseguir\", \"mais_fazer_login\", \"conseguir_mais_fazer\", \"lancar_corretamente_nao\", \"nao_conseguir_entrar\", \"tomar_dosar_reforcar\", \"senha_nao_conseguir\", \"app_mais_umar\", \"umar_perder_tempo\", \"tipo_app_mais\", \"conseguir_cadastrar_falir\", \"cadastrar_falir_serio\", \"baixei_nao_conseguir\", \"mais_umar_perder\", \"serio_tipo_app\", \"falir_serio_tipo\", \"gostar_nao_ter\", \"nao_gostar_nao\", \"ter_opcao_criar\", \"ultimo_atualizacao_nao\", \"login_preciso_emitir\", \"preciso_emitir_certificar\", \"depois_ultimo_atualizacao\", \"fazer_login_preciso\", \"emitir_certificar_vacinacao\", \"conseguir_mais_entrar\", \"ontem_nao_conseguir\", \"mais_entrar_aplicativo\", \"entrar_aplicativo_nao\", \"depois_atualizacao_ontem\", \"nao_abrir_muito\", \"atualizacao_ontem_nao\", \"aplicativo_nao_abrir\", \"abrir_muito_ruim\", \"contar_acesso_fazer\", \"fazer_ter_voltar\", \"bloquear_contar_acesso\", \"acesso_fazer_ter\", \"horar_pedir_capcha\", \"cadastrar_horar_pedir\", \"muito_cadastrar_horar\", \"corretamente_nao_conseguir\", \"tomei_dose_heterogenias\", \"heterogenias_astrazeneca_lancar\", \"agora_precisar_viajar\", \"dose_heterogenias_astrazeneca\", \"certificar_agora_precisar\", \"conseguir_certificar_agora\", \"astrazeneca_lancar_corretamente\", \"nao_conseguir_certificar\", \"app_entanto_app\", \"dosar_reforcar_dia\", \"entanto_app_constar\", \"hoje_nao_constar\", \"nao_constar_app\", \"dia_hoje_nao\", \"reforcar_dia_hoje\", \"constar_app_entanto\", \"tentar_recuperar_senha\", \"recuperar_senha_nao\", \"nao_conseguir_funcionar\", \"conseguir_entrar_jeito\", \"uma_nao_conseguir\", \"nao_conseguir_conectar\", \"fazer_login_so\", \"nao_funcionar_quando\", \"tela_ficar_branco\", \"marcar_consulto_exame\", \"ja_tomar_dois\", \"acesso_certificar_vacinacao\", \"aplicativo_nao_mostrar\", \"nao_mostrar_vacinar\", \"nao_conseguir_logar\", \"ficar_tela_branco\", \"cadastrar_nao_conseguir\", \"tela_branco_nao\", \"aparecer_primeiro_dosar\", \"ja_fazer_mais\", \"nao_aparecer_primeiro\", \"nao_conseguir_acessar\", \"assim_nao_conseguir\", \"nao_conseguir_fazer\", \"metralhadora_granar_tanque\", \"brigar_dois_dia\", \"vacinar_covid_tres\", \"tres_idioma_ufa\", \"tanque_guerra_armamento\", \"pesar_conseguir_imprimir\", \"horar_aplicativo_horrivel\", \"imprimir_certificar_vacinar\", \"idioma_ufa_dormir\", \"armamento_pesar_conseguir\", \"granar_tanque_guerra\", \"dormir_horar_aplicativo\", \"dois_dia_metralhadora\", \"conseguir_imprimir_certificar\", \"nao_fazer_login\", \"funcionar_nao_conseguir\", \"nao_conseguir_fazer\", \"achar_errar_app\", \"achar_pessoa_nao\", \"achei_pouco_util\", \"app_coletar_localizacao\", \"app_mostrar_vacinar\", \"app_nao_funcionar\", \"ativos_celular_achar\", \"causar_passaporte_ir\", \"celular_achar_errar\", \"coletar_localizacao_usa\", \"concordar_nao_ter\", \"credito_ativos_celular\", \"dever_gratuito_usar\", \"devir_privar_ver\", \"dinheiro_usar_app\", \"entao_precisar_ficar\", \"entrar_locar_causar\", \"errar_app_coletar\", \"escolher_achei_pouco\", \"ficar_gastar_dinheiro\", \"forcar_nao_concordar\", \"funcao_app_nao\", \"funcionar_internet_entao\", \"gastar_dinheiro_usar\", \"gratuito_usar_independente\", \"independente_ter_credito\", \"internet_entao_precisar\", \"ir_direito_humano\", \"lo_achar_pessoa\", \"localizacao_usa_lo\", \"locar_causar_passaporte\", \"mostrar_vacinar_dever\", \"nao_concordar_nao\", \"nao_devir_privar\", \"nao_funcionar_internet\", \"nao_ter_escolher\", \"passaporte_ir_direito\", \"pessoa_nao_devir\", \"pouco_util_funcao\", \"precisar_ficar_gastar\", \"privar_ver_entrar\", \"ter_credito_ativos\", \"ter_escolher_achei\", \"usa_lo_achar\", \"usar_app_mostrar\", \"usar_independente_ter\", \"uso_forcar_nao\", \"util_funcao_app\", \"vacinar_dever_gratuito\", \"ver_entrar_locar\", \"agora_sistema_comunidades\", \"aparecer_negativar_espelhar\", \"aparecer_vacinar_covid\", \"app_aparecer_negativar\", \"ate_agora_sistema\", \"comunidades_estao_mesmo\", \"covid_dar_positivar\", \"covid_ja_tomar\", \"dar_positivar_app\", \"dia_ja_duas\", \"duas_reclamacoes_ate\", \"espelhar_servico_publico\", \"estao_mesmo_nao\", \"exame_covid_dar\", \"ja_duas_reclamacoes\", \"ja_tomar_exame\", \"ja_unidade_dia\", \"longe_util_querer\", \"mesmo_nao_resolve\", \"negativar_espelhar_servico\", \"positivar_app_aparecer\", \"publico_sim_ja\", \"querer_aparecer_vacinar\", \"reclamacoes_ate_agora\", \"servico_publico_sim\", \"sim_ja_unidade\", \"sistema_comunidades_estao\", \"tomar_exame_covid\", \"unidade_dia_ja\", \"util_querer_aparecer\", \"vacinar_covid_ja\", \"ai_pessoa_preciso\", \"aplicativo_impossivel_usar\", \"cadastrar_comer_ter\", \"cadastrar_pedir_senha\", \"colocar_esquecer_senha\", \"comer_ter_senha\", \"dar_estrelo_pq\", \"desejar_nao_sair\", \"esquecer_senha_ir\", \"estrelo_pq_fazer\", \"fazer_aplicativo_impossivel\", \"fazer_cadastrar_comer\", \"fazer_cadastrar_pedir\", \"impossivel_usar_pessoa\", \"ir_tela_pessoa\", \"lugar_ai_pessoa\", \"nao_funcionar_nao\", \"segundo_dosar_vacinar\", \"segundo_dosar_dia\", \"aplicativo_nao_conseguir\", \"nao_ter_opcao\", \"nao_conseguir_logar\", \"brigar_dois_dia\", \"metralhadora_granar_tanque\", \"armamento_pesar_conseguir\", \"conseguir_imprimir_certificar\", \"depois_brigar_dois\", \"dois_dia_metralhadora\", \"dormir_horar_aplicativo\", \"granar_tanque_guerra\", \"horar_aplicativo_horrivel\", \"idioma_ufa_dormir\", \"imprimir_certificar_vacinar\", \"pesar_conseguir_imprimir\", \"tanque_guerra_armamento\", \"tres_idioma_ufa\", \"vacinar_covid_tres\", \"aplicativo_horrivel_credo\", \"certificar_vacinar_covid\", \"covid_tres_idioma\", \"guerra_armamento_pesar\", \"ufa_dormir_horar\", \"dia_metralhadora_granar\", \"clicar_entrar_nao\", \"ai_clicar_entrar\", \"app_dizer_entrar\", \"dizer_entrar_ai\", \"entrar_ai_clicar\", \"entrar_nao_entrar\", \"entrar_vir_governar\", \"vacinar_app_dizer\", \"governar_lixar_mesmo\", \"aplicativo_lixar_entrar\", \"entrar_ver_vacinar\", \"ver_vacinar_app\", \"vir_governar_lixar\", \"lixar_entrar_ver\", \"nao_entrar_vir\", \"acabei_baixar_app\", \"entrar_login_senha\", \"horar_entrar_login\", \"app_horar_entrar\", \"nao_passar_dai\", \"branco_nao_passar\", \"senha_gov_br\", \"br_ficar_tela\", \"baixar_app_horar\", \"gov_br_ficar\", \"login_senha_gov\", \"acesso_tanto_assim\", \"aplicativo_inves_facilitar\", \"apps_banco_complicar\", \"constar_segundo_dosar\", \"dosar_vacinar_nao\", \"entrar_maldizer_aplicativo\", \"inves_facilitar_piorar\", \"nao_constar_doacao\", \"sangue_nao_constar\", \"facilitar_piorar_apps\", \"nao_constar_segundo\", \"nao_constar_atualizacoes\", \"banco_complicar_acesso\", \"ter_entrar_maldizer\", \"desatualizado_nao_constar\", \"aplicativo_desatualizado_nao\", \"piorar_apps_banco\", \"maldizer_aplicativo_inves\", \"complicar_acesso_tanto\", \"nao_ter_entrar\", \"constar_doacao_sangue\", \"vacinar_nao_constar\", \"antar_aparecer_fazer\", \"dosar_vacinar_antar\", \"doacao_sangue_nao\", \"conseguir_entrar_novamente\", \"novamente_agora_nao\", \"senha_conseguir_entrar\", \"agora_nao_aparecer\", \"entrar_novamente_agora\", \"vacinar_antar_aparecer\", \"carteiro_vacinacao_pdf\", \"vacinacao_pdf_simples\", \"filho_ainda_nao\", \"vacinar_filho_ainda\", \"pessimo_simplesmente_vir\", \"bom_muito_menos\", \"mais_um_mes\", \"governar_nao_poder\", \"nao_poder_bom\", \"salvar_carteiro_vacinacao\", \"muito_menos_util\", \"simplesmente_vir_governar\", \"conseguir_salvar_carteiro\", \"poder_bom_muito\", \"funcao_nao_funcionar\", \"aplicativo_ja_fazer\", \"nao_conseguir_salvar\", \"fazer_mais_um\", \"vir_governar_nao\", \"ainda_nao_aplicativo\", \"primeiro_dosar_vacinar\", \"tela_branco_nao\", \"ficar_tela_branco\", \"aparecer_primeiro_dosar\", \"nao_aparecer_primeiro\", \"ja_fazer_mais\", \"nao_aplicativo_ja\", \"pdf_simples_funcao\", \"simples_funcao_nao\", \"nao_conseguir_cadastrar\", \"opcao_criar_contar\", \"app_mais_umar\", \"baixei_nao_conseguir\", \"cadastrar_falir_serio\", \"conseguir_cadastrar_falir\", \"falir_serio_tipo\", \"mais_umar_perder\", \"serio_tipo_app\", \"tipo_app_mais\", \"umar_perder_tempo\", \"gostar_nao_ter\", \"nao_gostar_nao\", \"ter_opcao_criar\", \"nao_conseguir_conectar\", \"nao_servir_querer\", \"acessei_pedir_certificar\", \"baixar_certificar_imunidade\", \"certificar_imunidade_pede\", \"certificar_pedir_logar\", \"nao_conseguir_baixar\", \"pede_baixar_app\", \"pedir_logar_nao\", \"baixar_acessei_pedir\", \"pedir_certificar_pedir\", \"imunidade_pede_baixar\", \"app_baixar_acessei\", \"baixar_app_baixar\", \"conseguir_baixar_certificar\", \"logar_nao_servir\", \"mais_um_estresse\", \"enfim_so_mais\", \"um_estresse_ter\", \"criar_contar_pratico\", \"estresse_ter_passar\", \"contar_pratico_enfim\", \"mto_burocratico_criar\", \"pratico_enfim_so\", \"app_ruim_desmais\", \"ruim_desmais_mto\", \"desmais_mto_burocratico\", \"so_mais_um\", \"burocratico_criar_contar\", \"horroroso_variar_nao\", \"variar_nao_avancar\", \"partir_digitar_cpf\", \"avancar_partir_digitar\", \"acesso_carteiro_vacinacao\", \"cpf_senha_acesso\", \"digitar_cpf_senha\", \"nao_avancar_partir\", \"senha_acesso_carteiro\", \"app_horroroso_variar\", \"logar_atualizado_favor\", \"conseguir_mais_logar\", \"tempo_nao_conseguir\", \"verificar_alterar_noto\", \"mais_logar_atualizado\", \"favor_verificar_alterar\", \"atualizado_favor_verificar\", \"conectar_contar_tentar\", \"horrivel_governar_nao\", \"governar_nao_conseguir\", \"conseguir_conectar_contar\", \"tentar_marcar_consulto\", \"contar_tentar_marcar\", \"ser_ar_diverso\", \"gente_mao_sair\", \"disponibilizar_login_mau\", \"confiavel_ficar_ser\", \"sair_ar_horar\", \"nao_aplicativo_confiavel\", \"aplicativo_horrivel_deixar\", \"ar_diverso_vezar\", \"horrivel_deixar_gente\", \"ficar_ser_ar\", \"deixar_gente_mao\", \"mao_sair_ar\", \"aplicativo_confiavel_ficar\", \"login_mau_locar\", \"locar_precisar_comprovar\", \"nao_disponibilizar_login\", \"abrir_app_digital\", \"comprovar_dosar_permitir\", \"precisar_comprovar_dosar\", \"deveria_poder_abrir\", \"poder_abrir_app\", \"dosar_permitir_entrar\", \"digital_fica_dica\", \"app_digital_fica\", \"permitir_entrar_mesmo\", \"entrar_mesmo_reinstalar\", \"mesmo_reinstalar_app\", \"app_nao_disponibilizar\", \"funcionar_nao_carregar\", \"aparecer_opcao_criar\", \"preciso_banco_gente\", \"banco_gente_usar\", \"nao_conseguir_recuperacao\", \"nao_carregar_informacao\", \"mau_locar_precisar\", \"nao_funcionar_tanto\", \"muito_custar_conseguir\", \"precisar_utilizar_comprovante\", \"avancar_melhorem_urgencia\", \"depois_muito_custar\", \"nao_conseguir_mais\", \"nao_conseguir_entrar\", \"lancar_corretamente_nao\", \"tomar_dosar_reforcar\", \"senha_nao_conseguir\", \"agora_precisar_viajar\", \"astrazeneca_lancar_corretamente\", \"certificar_agora_precisar\", \"conseguir_certificar_agora\", \"corretamente_nao_conseguir\", \"dose_heterogenias_astrazeneca\", \"heterogenias_astrazeneca_lancar\", \"nao_conseguir_certificar\", \"tomei_dose_heterogenias\", \"app_entanto_app\", \"constar_app_entanto\", \"dia_hoje_nao\", \"dosar_reforcar_dia\", \"entanto_app_constar\", \"hoje_nao_constar\", \"nao_constar_app\", \"reforcar_dia_hoje\", \"nao_conseguir_funcionar\", \"recuperar_senha_nao\", \"tentar_recuperar_senha\", \"conseguir_entrar_jeito\", \"uma_nao_conseguir\", \"ja_tomar_dois\", \"acesso_certificar_vacinacao\", \"aplicativo_nao_mostrar\", \"nao_mostrar_vacinar\", \"seculo_atender_fato\", \"atender_fato_uma\", \"utilidade_quando_preciso\", \"atendimento_quando_conseguir\", \"conseguir_atendimento_quando\", \"conseguir_saber_la\", \"fato_uma_vergonha\", \"la_seculo_atender\", \"nao_saber_utilidade\", \"nunca_conseguir_atendimento\", \"ser_nao_saber\", \"quando_preciso_nunca\", \"saber_la_seculo\", \"preciso_nunca_conseguir\", \"quando_conseguir_saber\", \"saber_utilidade_quando\", \"login_ficar_tela\", \"conseguir_acessar_app\", \"fazer_login_ficar\", \"botao_fazer_login\", \"branco_assim_nao\", \"tela_branco_assim\", \"clicar_botao_fazer\", \"app_controlo_social\", \"mais_mais_conduzir\", \"conduzir_igual_rebanhar\", \"aplicativo_abrir_login\", \"fazer_olha_bom\", \"igual_rebanhar_matadouro\", \"nao_possivel_fazer\", \"olha_bom_aplicativo\", \"controlo_social_moderno\", \"possivel_fazer_olha\", \"bom_aplicativo_horrivel\", \"mais_conduzir_igual\", \"login_nao_possivel\", \"social_moderno_mais\", \"abrir_login_nao\", \"moderno_mais_mais\", \"comprovar_vacinar_nao\", \"nao_emitir_certificar\", \"preciso_viajar_comprovar\", \"vacinar_nao_emitir\", \"viajar_comprovar_vacinar\", \"infelizmente_aplicativo_nao\", \"emitir_certificar_ingles\", \"certificar_ingles_espanhol\", \"ajudar_atualiza_aplicativo\", \"jogar_ir_nao\", \"mostrar_vacinar_nao\", \"bienal_familia_contar\", \"muito_instavel_facil\", \"instavel_facil_instalar\", \"entrar_bienal_familia\", \"facil_instalar_quando\", \"querer_ir_estadio\", \"plicativo_dizer_favor\", \"alegar_poder_falsar\", \"instalar_quando_preciso\", \"preciso_nao_abrir\", \"conseguir_entrar_bienal\", \"quando_preciso_nao\", \"contar_instabilidade_acesso\", \"familia_contar_instabilidade\", \"poder_falsar_so\", \"atualizar_ja_fazer\", \"dois_vacinar_agora\", \"aplicativo_atualizar_ja\", \"atualiza_querer_ir\", \"dois_vacinar_ja\", \"mais_mes_tomar\", \"estrelo_olhar_la\", \"resenhar_enquanto_estrelo\", \"informacao_partir_errar\", \"mostrar_dois_vacinar\", \"nao_poder_aplicativo\", \"agora_aplicativo_atualizar\", \"aceito_cartao_vacinar\", \"dois_infelizmente_aplicativo\", \"cartao_vacinar_alegar\", \"favor_ajudar_atualiza\", \"ficou_muito_desejar\", \"estadio_assistir_jogar\", \"vacinar_nao_aceito\", \"falsar_so_plicativo\", \"ir_estadio_assistir\", \"dose_vacinar_inclusive\", \"nao_mostrar_dois\", \"ja_fazer_mais\", \"nao_conseguir_acessar\", \"ficar_tela_branco\", \"assim_nao_conseguir\", \"aparecer_primeiro_dosar\", \"atualizacao_nao_conseguir\", \"mais_fazer_login\", \"conseguir_mais_fazer\", \"nao_conseguir_mais\", \"depois_ultimo_atualizacao\", \"emitir_certificar_vacinacao\", \"fazer_login_preciso\", \"login_preciso_emitir\", \"preciso_emitir_certificar\", \"ultimo_atualizacao_nao\", \"abrir_muito_ruim\", \"aplicativo_nao_abrir\", \"atualizacao_ontem_nao\", \"conseguir_mais_entrar\", \"depois_atualizacao_ontem\", \"entrar_aplicativo_nao\", \"mais_entrar_aplicativo\", \"nao_abrir_muito\", \"ontem_nao_conseguir\", \"acesso_fazer_ter\", \"bloquear_contar_acesso\", \"contar_acesso_fazer\", \"fazer_ter_voltar\", \"cadastrar_horar_pedir\", \"horar_pedir_capcha\", \"muito_cadastrar_horar\", \"fazer_login_so\", \"nao_funcionar_quando\", \"tela_ficar_branco\", \"marcar_consulto_exame\", \"encontrar_nao_aceito\", \"servico_encontrar_nao\", \"pior_servico_encontrar\", \"login_so_ficar\", \"conseguir_fazer_senha\", \"senha_cadastrar_nao\", \"branco_parar_tela\", \"aceito_senha_cadastrar\", \"fazer_senha_novo\", \"tela_branco_parar\", \"nao_aceito_senha\", \"so_ficar_tela\", \"tentar_fazer_login\", \"login_so_mostrar\", \"so_mostrar_tela\", \"tela_branco_ficar\", \"deixar_conectar_tentar\", \"mostrar_tela_branco\", \"nao_deixar_conectar\", \"conectar_tentar_fazer\", \"tentar_entrar_cpf\", \"melhorar_muito_tentar\", \"ficar_branco_travar\", \"tentar_entrar_variar\", \"ter_melhorar_muito\", \"vezar_nao_abrir\", \"quando_tentar_entrar\", \"cpf_tela_ficar\", \"entrar_variar_vezar\", \"variar_vezar_nao\", \"app_ter_melhorar\", \"funcionar_quando_tentar\", \"entrar_cpf_tela\", \"muito_tentar_entrar\", \"funcionar_menos_ja\", \"comparado_usuario_informacao\", \"informacao_diferir_acesso\", \"ter_nem_resgatar\", \"acesso_comparado_usuario\", \"instavel_informacao_diferir\", \"menos_ja_esperar\", \"nao_ter_nem\", \"complicar_pai_chamar\", \"nao_funcionar_menos\", \"ja_esperar_fazer\", \"nem_resgatar_senha\", \"muito_instavel_informacao\", \"resgatar_senha_funcionar\", \"esperar_fazer_complicar\", \"usuario_informacao_diferir\", \"acessar_nao_ter\", \"conseguir_acessar_nao\", \"fazer_complicar_pai\", \"diferir_acesso_comparado\", \"quando_resolver_funcionar\", \"invalido_precisar_posicao\", \"instalar_reinstalar_vezar\", \"nao_facilitar_acesso\", \"nao_funcionar_ja\", \"mail_dizer_invalido\", \"aplicativo_pedir_mail\", \"pedir_mail_dizer\", \"vezar_so_errar\", \"resolver_funcionar_nao\", \"dizer_invalido_precisar\", \"funcionar_nao_facilitar\", \"funcionar_ja_instalar\", \"funcionar_quando_resolver\", \"reinstalar_vezar_so\", \"cadastrar_aplicativo_pedir\", \"preencher_requisitos_vem\", \"email_agente_enviar\", \"codigo_email_agente\", \"agente_enviar_codigo\", \"nao_conseguir_fazer\", \"nao_funcionar_nao\", \"cadastrar_nao_conseguir\", \"ficar_tela_branco\", \"nao_conseguir_acessar\"], \"Freq\": [3.0, 2.0, 1.0, 2.0, 1.0, 1.0, 1.0, 1.0, 1.0, 1.0, 1.0, 1.0, 1.0, 1.0, 1.0, 1.0, 1.0, 1.0, 1.0, 1.0, 1.0, 1.0, 1.0, 1.0, 1.0, 1.0, 1.0, 1.0, 1.0, 1.0, 1.0, 1.0, 1.0, 1.0, 1.0, 1.0, 1.0, 1.0, 1.0, 1.0, 1.0, 1.0, 1.0, 1.0, 1.0, 1.0, 1.0, 1.0, 1.0, 1.0, 1.0, 1.0, 1.0, 1.0, 1.0, 1.0, 1.0, 1.0, 1.0, 1.0, 1.0, 1.0, 1.0, 1.0, 1.0, 1.0, 1.0, 1.0, 1.0, 1.0, 1.0, 1.0, 1.0, 1.0, 1.0, 1.0, 1.0, 1.0, 1.0, 1.0, 1.0, 1.0, 1.0, 1.0, 1.0, 2.0, 0.0, 0.0, 0.0, 0.0, 0.0, 0.0, 0.0, 0.0, 0.0, 0.0, 0.0, 0.0, 0.0, 0.0, 1.8508099616932028, 1.2045796803249789, 1.8496903413621915, 0.9672259691676973, 0.9672259691676973, 0.9672259691676973, 0.9672259691676973, 0.9672259691676973, 0.9672259691676973, 0.9672259691676973, 0.9672259691676973, 0.9672259691676973, 0.9672259691676973, 0.9672259691676973, 0.9672259691676973, 0.9672259691676973, 0.9672259691676973, 0.9672259691676973, 0.9672259691676973, 0.9672259691676973, 0.9672259691676973, 0.9672259691676973, 0.9672259691676973, 0.9672259691676973, 0.9672259691676973, 0.9672259691676973, 0.9672259691676973, 0.9672259691676973, 0.9672259691676973, 0.9672259691676973, 0.9672259691676973, 0.9672259691676973, 0.9672259691676973, 0.9672259691676973, 0.9672259691676973, 0.9672259691676973, 0.9672259691676973, 0.9672259691676973, 0.9672259691676973, 0.9672259691676973, 0.9672259691676973, 0.9672259691676973, 0.9672259691676973, 0.9672259691676973, 0.9672259691676973, 0.9672259691676973, 0.9672259691676973, 0.9672259691676973, 0.9672259691676973, 0.9672259691676973, 0.9672259691676973, 0.9672259691676973, 0.9672259691676973, 0.9672257934399066, 0.9672257934399066, 0.9672257934399066, 0.9672257934399066, 0.9672257934399066, 0.9672257934399066, 0.9672257934399066, 0.9672257934399066, 0.9672257934399066, 0.9672257934399066, 0.9672257934399066, 0.9672257934399066, 0.9672257934399066, 0.9672257934399066, 0.9672257934399066, 0.9672257934399066, 0.9672257934399066, 0.9672257934399066, 0.9672257934399066, 0.9672257934399066, 0.9672257934399066, 0.9672257934399066, 0.9672257934399066, 0.9672257934399066, 0.9672257934399066, 0.9672257934399066, 0.9672257934399066, 0.9672257934399066, 0.9672257934399066, 0.9672257934399066, 0.9672257934399066, 0.9672257934399066, 0.9672257934399066, 0.9672257934399066, 0.9672257934399066, 0.9672257934399066, 0.9672257934399066, 0.9672257934399066, 0.9672257934399066, 0.9672257934399066, 0.9672257934399066, 0.9672257934399066, 0.9672257934399066, 0.9672257934399066, 0.9672257934399066, 0.9672257934399066, 0.9672257934399066, 1.2045687852019502, 1.2045939728519626, 0.9672387387204943, 0.9672279607493262, 1.5829134429076888, 0.7619851992764844, 0.4391955246903678, 0.4391955246903678, 0.4391955246903678, 0.4391955246903678, 0.4391955246903678, 0.4391955246903678, 0.4391955246903678, 0.4391955246903678, 0.4391955246903678, 0.4391955246903678, 0.4391955246903678, 0.4391955246903678, 0.4391955246903678, 0.4391955246903678, 0.4391955246903678, 0.4391955246903678, 0.4391955246903678, 0.4391955246903678, 0.4391955246903678, 0.4391955246903678, 0.4391955246903678, 0.4391953402796353, 0.4391953402796353, 0.4391953402796353, 0.4391953402796353, 0.4391953402796353, 0.4391953402796353, 0.4391953402796353, 0.4391953402796353, 0.4391953402796353, 0.4391953402796353, 0.4391953402796353, 0.4391953402796353, 0.4391953402796353, 0.43919531393524497, 0.43919528759085463, 0.4391952349020739, 0.4391952349020739, 0.4391952349020739, 0.4391952349020739, 0.4391952349020739, 0.43919520855768357, 0.43919520855768357, 0.43919520855768357, 0.43919520855768357, 0.43919520855768357, 0.43919520855768357, 0.4391951295245125, 0.4391951295245125, 0.4391951295245125, 0.4391951295245125, 0.4391951295245125, 0.4391951295245125, 0.4391951295245125, 0.4391951295245125, 0.4391951295245125, 0.4391951295245125, 0.4391951295245125, 0.4391951295245125, 0.4391951295245125, 0.4391951295245125, 0.4391951295245125, 0.4391951295245125, 0.43919510318012217, 0.43919510318012217, 0.43919510318012217, 0.43919510318012217, 0.43919510318012217, 0.43919510318012217, 0.4391950768357318, 0.4391950768357318, 0.43919510318012217, 0.4391950768357318, 0.4391950768357318, 0.4391950768357318, 0.4391950768357318, 0.4391950768357318, 0.43919505049134144, 0.4391946289810958, 0.4391946289810958, 0.4391946289810958, 0.4391946289810958, 0.4391946289810958, 0.4391946289810958, 0.4391946289810958, 0.4391946289810958, 0.4391946289810958, 0.4391946289810958, 0.4391946289810958, 0.4391946289810958, 0.4391946289810958, 0.4391946289810958, 0.4391946289810958, 0.4391946289810958, 0.4391946289810958, 0.4391946289810958, 0.4391946289810958, 0.4391946289810958, 0.439899657555739, 0.43919797471867067, 0.4391976322415961, 0.4391950768357318, 0.43919505049134144, 0.4391946553254861, 0.4391946289810958, 0.4391946289810958, 0.4391946289810958, 1.8610058426663147, 1.554234555350007, 1.248372348467318, 1.248372348467318, 1.248372348467318, 1.248372348467318, 1.248372348467318, 1.248372348467318, 1.248372348467318, 1.248372348467318, 1.248372348467318, 1.2468778168991383, 1.2468778168991383, 1.2468778168991383, 0.7206099865186338, 0.4143268270331842, 0.4143268270331842, 0.4143268270331842, 0.4143268270331842, 0.4143268270331842, 0.4143268270331842, 0.4143268270331842, 0.4143268270331842, 0.4143268270331842, 0.4143268270331842, 0.4143268270331842, 0.4143268270331842, 0.4143268270331842, 0.4143268270331842, 0.4143268270331842, 0.4143267228047465, 0.41432669674763706, 0.41432669674763706, 0.41432669674763706, 0.41432669674763706, 0.41432669674763706, 0.41432669674763706, 0.41432669674763706, 0.41432669674763706, 0.41432669674763706, 0.41432669674763706, 0.41432669674763706, 0.41432667069052764, 0.41432646223365227, 0.41432646223365227, 0.41432646223365227, 0.41432646223365227, 0.41432646223365227, 0.41432646223365227, 0.41432646223365227, 0.41432646223365227, 0.41432646223365227, 0.4143264361765428, 0.414326201662558, 0.414326201662558, 0.414326201662558, 0.414326201662558, 0.414326201662558, 0.414326201662558, 0.4143261234912297, 0.4143259932056826, 0.4143259932056826, 0.4143259932056826, 0.41432594109146376, 0.41432591503435434, 0.41432591503435434, 0.4143256805203695, 0.4143256805203695, 0.4143261234912297, 0.4143256805203695, 0.4143256805203695, 0.4143256544632601, 0.4143256544632601, 0.4143256544632601, 0.4143256544632601, 0.4143256544632601, 0.41432562840615067, 0.41432562840615067, 0.4143256023490412, 0.4143259932056826, 0.4143259932056826, 0.41432591503435434, 0.4143252636066187, 0.41432588897724487, 0.41432588897724487, 0.4143252375495093, 0.4143252375495093, 0.41432586292013546, 0.41432521149239987, 0.41432521149239987, 0.41432581080591663, 0.41432581080591663, 0.41432562840615067, 0.4143256023490412, 0.41432466429310194, 0.41432466429310194, 0.41432463823599247, 0.41432463823599247, 0.41432463823599247, 0.41432463823599247, 0.41432549812060354, 0.41432552417771296, 0.4143252636066187, 0.4143252375495093, 0.41432510726396216, 0.41432502909263386, 0.41432622771966743, 1.4679126748267413, 1.4679137965810327, 1.4679131847150555, 1.4679040067254, 1.1786893382238282, 1.1786893382238282, 1.1786893382238282, 1.1786893382238282, 1.1786893382238282, 1.1786893382238282, 1.1786893382238282, 1.1786893382238282, 1.1786893382238282, 1.1786890322908397, 1.1786890322908397, 1.1786890322908397, 1.1786890322908397, 1.1786890322908397, 1.1786890322908397, 1.1786890322908397, 1.1786890322908397, 1.1786869927375827, 1.1786869927375827, 1.1786869927375827, 1.1786857690056287, 1.1786857690056287, 0.6804149541026869, 0.6804146991585298, 0.6804141382813842, 0.6804105180743534, 0.39119796560928566, 0.39119794011486997, 0.39119794011486997, 0.39119794011486997, 0.39119794011486997, 0.39119794011486997, 0.39119794011486997, 0.39119794011486997, 0.39119794011486997, 0.39119794011486997, 0.39119794011486997, 0.39119794011486997, 0.39119794011486997, 0.39119794011486997, 0.39119794011486997, 0.39119794011486997, 0.3911975322042186, 0.3911975322042186, 0.3911975322042186, 0.3911975322042186, 0.39119750670980286, 0.39119750670980286, 0.39119750670980286, 0.3911972772600615, 0.3911972517656458, 0.3911972517656458, 0.3911972517656458, 0.3911972517656458, 0.3911972517656458, 0.3911972517656458, 0.3911972517656458, 0.3911972517656458, 0.3911972517656458, 0.3911972517656458, 0.3911972517656458, 0.3911972517656458, 0.3911972517656458, 0.3911972517656458, 0.39119720077681436, 0.3911970478103201, 0.3911970478103201, 0.39119702231590436, 0.39119702231590436, 0.39119702231590436, 0.39119758319305, 0.3911969968214887, 0.3911969968214887, 0.3911975322042186, 0.39119750670980286, 0.3911974557209715, 0.391196792866163, 0.391196792866163, 0.391196792866163, 0.391196792866163, 0.391196792866163, 0.39119743022655573, 0.39119743022655573, 0.39119743022655573, 0.39119671638291587, 0.39119671638291587, 0.39119671638291587, 0.39119671638291587, 0.39119671638291587, 0.39119671638291587, 0.3911973537433086, 0.3911973537433086, 0.3911973537433086, 0.3911973537433086, 0.3911973282488929, 0.3911973282488929, 0.3911973282488929, 0.3911973537433086, 0.3911973537433086, 0.3911973537433086, 0.39119730275447717, 0.39119730275447717, 0.39119730275447717, 0.39119730275447717, 0.39119730275447717, 0.39119730275447717, 0.39119730275447717, 0.3911972517656458, 0.3911972517656458, 0.3911972517656458, 0.3911972517656458, 0.3911972517656458, 0.3911972517656458, 0.39119720077681436, 0.39119758319305, 0.39119758319305, 0.39119758319305, 0.3911975322042186, 0.3911973282488929, 1.3879751075116162, 1.3879751075116162, 1.3879751075116162, 2.406046421377501, 1.1145011807017617, 1.1145011807017617, 1.1145011807017617, 1.1145011807017617, 1.1145011807017617, 1.1145011807017617, 1.1145011807017617, 1.1145011807017617, 1.1145011807017617, 1.1145011807017617, 1.1145011807017617, 1.1145011807017617, 1.1145011807017617, 1.1145011807017617, 1.1145011807017617, 1.1144990937257095, 1.1144990937257095, 1.1144990937257095, 1.1144990937257095, 1.1144979553751357, 1.1144979553751357, 1.1144979553751357, 0.6433622104290174, 0.6433618309788262, 0.6433462260897096, 0.6433442339762054, 0.36989421252840166, 0.36989421252840166, 0.36989421252840166, 0.36989421252840166, 0.36989421252840166, 0.36989421252840166, 0.36989421252840166, 0.36989421252840166, 0.36989421252840166, 0.36989421252840166, 0.36989421252840166, 0.3698941888127647, 0.36989407023457993, 0.36989407023457993, 0.36989407023457993, 0.36989407023457993, 0.36989407023457993, 0.36989407023457993, 0.36989407023457993, 0.36989407023457993, 0.3698939279407582, 0.3698939279407582, 0.3698939279407582, 0.3698939279407582, 0.3698939279407582, 0.3698939279407582, 0.3698939279407582, 0.3698939279407582, 0.3698939279407582, 0.3698939279407582, 0.3698939279407582, 0.3698939279407582, 0.3698939279407582, 0.36989390422512125, 0.3698937619312995, 0.3698937619312995, 0.3698937619312995, 0.3698937619312995, 0.3698937619312995, 0.3698937619312995, 0.36989373821566257, 0.36989373821566257, 0.36989373821566257, 0.36989373821566257, 0.36989373821566257, 0.36989373821566257, 0.36989373821566257, 0.36989373821566257, 0.36989373821566257, 0.36989373821566257, 0.36989373821566257, 0.36989373821566257, 0.3698936670687517, 0.3698936670687517, 0.36989352477493, 0.3698934773436561, 0.3698934773436561, 0.3698934773436561, 0.3698934773436561, 0.3698934773436561, 0.3698934773436561, 0.3698934773436561, 0.3698934773436561, 0.3698934773436561, 0.3698934773436561, 0.3698934773436561, 0.3698934773436561, 0.3698934773436561, 0.3698934773436561, 0.3698934773436561, 0.36989385679384734, 0.36989369078438866, 0.3698936670687517, 0.36989352477493, 0.37118512579478385, 0.3699145842605462, 0.36989584890735155, 0.36989425995967556, 0.36989373821566257], \"Total\": [3.0, 2.0, 1.0, 2.0, 1.0, 1.0, 1.0, 1.0, 1.0, 1.0, 1.0, 1.0, 1.0, 1.0, 1.0, 1.0, 1.0, 1.0, 1.0, 1.0, 1.0, 1.0, 1.0, 1.0, 1.0, 1.0, 1.0, 1.0, 1.0, 1.0, 1.0, 1.0, 1.0, 1.0, 1.0, 1.0, 1.0, 1.0, 1.0, 1.0, 1.0, 1.0, 1.0, 1.0, 1.0, 1.0, 1.0, 1.0, 1.0, 1.0, 1.0, 1.0, 1.0, 1.0, 1.0, 1.0, 1.0, 1.0, 1.0, 1.0, 1.0, 1.0, 1.0, 1.0, 1.0, 1.0, 1.0, 1.0, 1.0, 1.0, 1.0, 1.0, 1.0, 1.0, 1.0, 1.0, 1.0, 1.0, 1.0, 1.0, 1.0, 1.0, 1.0, 1.0, 1.0, 2.0, 0.0, 0.0, 0.0, 0.0, 0.0, 0.0, 0.0, 0.0, 0.0, 0.0, 0.0, 0.0, 0.0, 0.0, 2.271933492966871, 1.6257031928054129, 2.5455227692130933, 1.388349238024104, 1.388349238024104, 1.388349238024104, 1.388349238024104, 1.388349238024104, 1.388349238024104, 1.388349238024104, 1.388349238024104, 1.388349238024104, 1.388349238024104, 1.388349238024104, 1.388349238024104, 1.388349238024104, 1.388349238024104, 1.388349238024104, 1.388349238024104, 1.388349238024104, 1.388349238024104, 1.388349238024104, 1.388349238024104, 1.388349238024104, 1.388349238024104, 1.388349238024104, 1.388349238024104, 1.388349238024104, 1.388349238024104, 1.388349238024104, 1.388349238024104, 1.388349238024104, 1.388349238024104, 1.388349238024104, 1.388349238024104, 1.388349238024104, 1.388349238024104, 1.388349238024104, 1.388349238024104, 1.388349238024104, 1.388349238024104, 1.388349238024104, 1.388349238024104, 1.388349238024104, 1.388349238024104, 1.388349238024104, 1.388349238024104, 1.388349238024104, 1.388349238024104, 1.388349238024104, 1.388349238024104, 1.388349238024104, 1.388349238024104, 1.3883490688105906, 1.3883490688105906, 1.3883490688105906, 1.3883490688105906, 1.3883490688105906, 1.3883490688105906, 1.3883490688105906, 1.3883490688105906, 1.3883490688105906, 1.3883490688105906, 1.3883490688105906, 1.3883490688105906, 1.3883490688105906, 1.3883490688105906, 1.3883490688105906, 1.3883490688105906, 1.3883490688105906, 1.3883490688105906, 1.3883490688105906, 1.3883490688105906, 1.3883490688105906, 1.3883490688105906, 1.3883490688105906, 1.3883490688105906, 1.3883490688105906, 1.3883490688105906, 1.3883490688105906, 1.3883490688105906, 1.3883490688105906, 1.3883490688105906, 1.3883490688105906, 1.3883490688105906, 1.3883490688105906, 1.3883490688105906, 1.3883490688105906, 1.3883490688105906, 1.3883490688105906, 1.3883490688105906, 1.3883490688105906, 1.3883490688105906, 1.3883490688105906, 1.3883490688105906, 1.3883490688105906, 1.3883490688105906, 1.3883490688105906, 1.3883490688105906, 1.3883490688105906, 2.205381290949312, 2.2566049241863846, 1.6946092245895636, 1.7129937171885616, 2.0343980517309963, 1.391311087547366, 0.8294995896477392, 0.829499589929086, 0.8294996026762939, 0.8294996026762939, 0.8294996026762939, 0.8294996026762939, 0.8294996026762939, 0.8294996026762939, 0.8294996026762939, 0.8294996026762939, 0.8294996026762939, 0.8294996026762939, 0.8294996026762939, 0.8294996026762939, 0.8294996026762939, 0.8294996099982853, 0.8294996099982853, 0.8294996099982853, 0.8294996099982853, 0.8294996099982853, 0.8294996159271946, 0.8294994182655614, 0.8294994255875526, 0.8294994255875526, 0.8294994255875526, 0.8294994255875526, 0.8294994255875526, 0.8294994255875526, 0.8294994255875526, 0.8294994315164619, 0.8294994321018301, 0.8294994321018301, 0.8294994321018301, 0.8294994321018301, 0.8294994253819443, 0.8294993912708679, 0.8294993202099913, 0.8294993202099913, 0.8294993202099913, 0.8294993265835953, 0.8294993265835953, 0.829499300239205, 0.829499300239205, 0.8294993061681143, 0.8294993126823916, 0.8294993200043829, 0.8294993200043829, 0.8294992148324299, 0.8294992148324299, 0.8294992207613392, 0.8294992207613392, 0.8294992207613392, 0.8294992212060339, 0.8294992212060339, 0.8294992212060339, 0.8294992212060339, 0.8294992221544212, 0.8294992271349432, 0.8294992272756165, 0.8294992277203113, 0.8294992286686986, 0.8294992286686986, 0.8294992336492205, 0.8294992073048302, 0.8294992081125442, 0.8294992146268215, 0.8294992146268215, 0.8294992146268215, 0.8294992146268215, 0.8294991686579266, 0.8294991686579266, 0.8294992211410989, 0.8294991745868359, 0.8294991809604398, 0.8294991819088271, 0.8294991823535218, 0.8294991882824311, 0.8294991619380407, 0.8294987339135177, 0.8294987340541912, 0.8294987404277951, 0.8294987404277951, 0.8294987404277951, 0.8294987463567044, 0.829498746801399, 0.8294987469420725, 0.8294987469420725, 0.8294987528709817, 0.8294987528709817, 0.8294987528709817, 0.8294987541233902, 0.8294987541233902, 0.8294987592445856, 0.8294987600522995, 0.829498760192973, 0.8294987665665768, 0.8294987665665768, 0.8294987670112716, 1.713182533050512, 1.135762015152399, 1.6983453341433785, 1.1186649626707261, 1.1186649138027773, 1.1186644972676751, 0.8294987738885682, 0.8294987794544582, 0.8294987730808542, 2.257796379465767, 1.9515038307518633, 1.6451620717149296, 1.6451620717149296, 1.6451620717149296, 1.6451620717149296, 1.6451620717149296, 1.6451620717149296, 1.6451620717149296, 1.6451620717149296, 1.6451620717149296, 1.6452345689214158, 1.6452345689214158, 1.6452345689214158, 1.1174238405226324, 0.8111164910610005, 0.8111164983829918, 0.8111164983829918, 0.8111164983829918, 0.8111164983829918, 0.8111164983829918, 0.8111164983829918, 0.8111164983829918, 0.8111165043119011, 0.8111165043119011, 0.811116510685505, 0.8111165115551869, 0.8111165179287909, 0.8111165238577002, 0.8111165238577002, 0.811116394154554, 0.8111163680974446, 0.8111163680974446, 0.8111163744710486, 0.8111163744710486, 0.8111163803999578, 0.8111163803999578, 0.8111163871985491, 0.8111163876432438, 0.8111163876432438, 0.811116393572153, 0.811116393572153, 0.8111163748370349, 0.8111161526845643, 0.8111161526845643, 0.8111161590581683, 0.8111161604512502, 0.8111161663801595, 0.8111161663801595, 0.8111161663801595, 0.8111161663801595, 0.8111161663801595, 0.8111161403230501, 0.8111159049393832, 0.8111159058090652, 0.8111159058090652, 0.8111159190599658, 0.8111159249101697, 0.8111159312837736, 0.8111158472622414, 0.8111156973521899, 0.8111157106030904, 0.8111157169766943, 0.811115678983058, 0.8111156642800744, 0.8111156656731565, 0.8111154042913812, 0.8111154051610633, 0.8111162750826857, 0.8111154116133725, 0.8111154174635764, 0.8111153914064669, 0.8111153987284583, 0.8111154046573675, 0.8111154051020623, 0.8111154060504495, 0.8111153790449528, 0.8111153863669441, 0.811115379934339, 0.8111162587607907, 0.8111162769922132, 0.8111162508666915, 0.8111149955693037, 0.8111162307384912, 0.8111162557685049, 0.8111150004908245, 0.8111150013605065, 0.8111162365886919, 0.8111150009355161, 0.8111150076751094, 0.8111161999984369, 0.8111162132493374, 0.811116202709234, 0.8111162314053897, 0.8111144295758866, 0.8111144349813958, 0.8111144021256951, 0.8111144030740824, 0.8111144094476864, 0.8111144158212903, 0.8111162175036727, 0.8111168215577312, 0.8111168376027357, 0.8111168247178214, 0.811116826154226, 0.8111168533604591, 3.1206863886441822, 1.8707344572312883, 1.8707363241071422, 1.8707362889628558, 1.8707347535693397, 1.5815111458777706, 1.5815111458777706, 1.5815111458777706, 1.5815111458777706, 1.5815111458777706, 1.5815111458777706, 1.5815111458777706, 1.5815111458777706, 1.5815111458777706, 1.5815108523879686, 1.5815108523879686, 1.5815108523879686, 1.5815108523879686, 1.5815108523879686, 1.5815108523879686, 1.5815108523879686, 1.5815108523879686, 1.581509021584796, 1.581509021584796, 1.581509021584796, 1.5815079154787848, 1.5815079154787848, 1.0832383538494867, 1.0832384425080932, 1.0832381290068993, 1.0832385719666517, 0.7940196821390866, 0.7940196493226795, 0.7940196493226795, 0.7940196566446709, 0.7940196566446709, 0.7940196566446709, 0.7940196566446709, 0.7940196566446709, 0.7940196566446709, 0.7940196566446709, 0.7940196566446709, 0.7940196625735801, 0.7940196704809395, 0.7940196757457753, 0.7940196757457753, 0.7940196822600526, 0.7940192619062146, 0.79401926198492, 0.7940192684204921, 0.7940192684991974, 0.794019250326773, 0.7940192561769769, 0.794019256762345, 0.7940190194052442, 0.7940189880606245, 0.7940189953039105, 0.7940190012328198, 0.7940190012328198, 0.7940190012328198, 0.794019007161729, 0.794019007161729, 0.7940190077470971, 0.7940190078258025, 0.794019008554811, 0.794019008554811, 0.7940190150690883, 0.7940190150690883, 0.7940190209979976, 0.7940189905033527, 0.7940188105283945, 0.7940188237005898, 0.7940187915482562, 0.7940187915482562, 0.794018798206174, 0.7940199543098796, 0.794018786548027, 0.7940187924769363, 0.7940199326090134, 0.7940199364025626, 0.794019900057714, 0.7940185694205062, 0.7940185753494154, 0.794018576663792, 0.7940185825927013, 0.7940185885216106, 0.7940198892072807, 0.794019896529272, 0.7940199463114237, 0.7940184988661683, 0.7940185053804456, 0.7940185120383635, 0.7940185126237316, 0.7940185134314455, 0.7940185183302949, 0.7940198566559813, 0.7940198698281764, 0.7940198771501676, 0.7940198828567311, 0.794019867771522, 0.794019867771522, 0.7940198750935132, 0.7940199618113222, 0.794019992872413, 0.7940199969635486, 0.794019886209054, 0.794019886209054, 0.7940198935310452, 0.7940199008530366, 0.7940199124098037, 0.7940199140252318, 0.794019921347223, 0.7940198791521702, 0.794019887945949, 0.7940198937961529, 0.7940198952679403, 0.794019906968348, 0.7940200293100026, 0.7940198720952865, 1.1186644972676751, 1.0674371410288688, 1.6983453341433785, 1.0674400451245405, 1.1186649626707261, 1.7963533443099073, 1.7963533776919751, 1.7963533905798563, 3.1206863886441822, 1.522879503947694, 1.522879503947694, 1.522879503947694, 1.522879503947694, 1.522879503947694, 1.522879503947694, 1.5228795104619712, 1.5228795104619712, 1.5228795104619712, 1.5228795104619712, 1.5228795104619712, 1.5228795104619712, 1.5228795104619712, 1.5228795104619712, 1.5228795104619712, 1.522877602754805, 1.522877602754805, 1.522877602754805, 1.522877602754805, 1.5228765767683081, 1.5228765767683081, 1.5228765767683081, 1.0517405740976618, 1.051740188940907, 1.0517388758532928, 1.0517445678677992, 0.7782724768585567, 0.7782724827087606, 0.7782724835164745, 0.7782724835164745, 0.778272483657148, 0.778272483657148, 0.778272483657148, 0.7782724900307518, 0.7782724900307518, 0.7782724900307518, 0.7782725032029469, 0.7782724663151149, 0.7782723412226527, 0.7782723477369302, 0.7782723477369302, 0.7782723477369302, 0.7782723541105341, 0.7782723541105341, 0.7782723550589215, 0.7782723606248114, 0.7782721990695045, 0.7782722054431084, 0.7782722054431084, 0.7782722127650996, 0.7782722127650996, 0.7782722127650996, 0.7782722127650996, 0.7782722186153035, 0.7782722249889075, 0.7782722251295808, 0.778272225652981, 0.778272225937295, 0.7782722388251762, 0.7782722151095391, 0.7782720394336498, 0.7782720460915675, 0.778272046755641, 0.778272052321531, 0.7782720599278362, 0.7782720599278362, 0.7782720303619954, 0.7782720359278854, 0.7782720359278854, 0.7782720362121993, 0.7782720425858032, 0.7782720427264767, 0.7782720491000805, 0.7782720499077944, 0.7782720500484679, 0.7782720565627452, 0.7782720627956757, 0.7782720702583404, 0.7782720049616334, 0.7782720449563914, 0.7782718095992714, 0.7782717750558789, 0.7782717750558789, 0.7782717750558789, 0.7782717882280741, 0.778271794601678, 0.7782717955500653, 0.7782717955500653, 0.7782717955500653, 0.7782718019236692, 0.7782718020643427, 0.7782718020643427, 0.7782718084379465, 0.7782718091049872, 0.7782718092456605, 0.7782718230819292, 0.7782726352285134, 0.778272619855148, 0.7782726352251751, 0.7782726359611413, 2.5455227692130933, 2.205381290949312, 1.1029156690761972, 1.6983453341433785, 1.0674371410288688], \"Category\": [\"Default\", \"Default\", \"Default\", \"Default\", \"Default\", \"Default\", \"Default\", \"Default\", \"Default\", \"Default\", \"Default\", \"Default\", \"Default\", \"Default\", \"Default\", \"Default\", \"Default\", \"Default\", \"Default\", \"Default\", \"Default\", \"Default\", \"Default\", \"Default\", \"Default\", \"Default\", \"Default\", \"Default\", \"Default\", \"Default\", \"Default\", \"Default\", \"Default\", \"Default\", \"Default\", \"Default\", \"Default\", \"Default\", \"Default\", \"Default\", \"Default\", \"Default\", \"Default\", \"Default\", \"Default\", \"Default\", \"Default\", \"Default\", \"Default\", \"Default\", \"Default\", \"Default\", \"Default\", \"Default\", \"Default\", \"Default\", \"Default\", \"Default\", \"Default\", \"Default\", \"Default\", \"Default\", \"Default\", \"Default\", \"Default\", \"Default\", \"Default\", \"Default\", \"Default\", \"Default\", \"Default\", \"Default\", \"Default\", \"Default\", \"Default\", \"Default\", \"Default\", \"Default\", \"Default\", \"Default\", \"Default\", \"Default\", \"Default\", \"Default\", \"Default\", \"Default\", \"Default\", \"Default\", \"Default\", \"Default\", \"Default\", \"Default\", \"Default\", \"Default\", \"Default\", \"Default\", \"Default\", \"Default\", \"Default\", \"Default\", \"Topic1\", \"Topic1\", \"Topic1\", \"Topic1\", \"Topic1\", \"Topic1\", \"Topic1\", \"Topic1\", \"Topic1\", \"Topic1\", \"Topic1\", \"Topic1\", \"Topic1\", \"Topic1\", \"Topic1\", \"Topic1\", \"Topic1\", \"Topic1\", \"Topic1\", \"Topic1\", \"Topic1\", \"Topic1\", \"Topic1\", \"Topic1\", \"Topic1\", \"Topic1\", \"Topic1\", \"Topic1\", \"Topic1\", \"Topic1\", \"Topic1\", \"Topic1\", \"Topic1\", \"Topic1\", \"Topic1\", \"Topic1\", \"Topic1\", \"Topic1\", \"Topic1\", \"Topic1\", \"Topic1\", \"Topic1\", \"Topic1\", \"Topic1\", \"Topic1\", \"Topic1\", \"Topic1\", \"Topic1\", \"Topic1\", \"Topic1\", \"Topic1\", \"Topic1\", \"Topic1\", \"Topic1\", \"Topic1\", \"Topic1\", \"Topic1\", \"Topic1\", \"Topic1\", \"Topic1\", \"Topic1\", \"Topic1\", \"Topic1\", \"Topic1\", \"Topic1\", \"Topic1\", \"Topic1\", \"Topic1\", \"Topic1\", \"Topic1\", \"Topic1\", \"Topic1\", \"Topic1\", \"Topic1\", \"Topic1\", \"Topic1\", \"Topic1\", \"Topic1\", \"Topic1\", \"Topic1\", \"Topic1\", \"Topic1\", \"Topic1\", \"Topic1\", \"Topic1\", \"Topic1\", \"Topic1\", \"Topic1\", \"Topic1\", \"Topic1\", \"Topic1\", \"Topic1\", \"Topic1\", \"Topic1\", \"Topic1\", \"Topic1\", \"Topic1\", \"Topic1\", \"Topic1\", \"Topic1\", \"Topic1\", \"Topic1\", \"Topic1\", \"Topic1\", \"Topic2\", \"Topic2\", \"Topic2\", \"Topic2\", \"Topic2\", \"Topic2\", \"Topic2\", \"Topic2\", \"Topic2\", \"Topic2\", \"Topic2\", \"Topic2\", \"Topic2\", \"Topic2\", \"Topic2\", \"Topic2\", \"Topic2\", \"Topic2\", \"Topic2\", \"Topic2\", \"Topic2\", \"Topic2\", \"Topic2\", \"Topic2\", \"Topic2\", \"Topic2\", \"Topic2\", \"Topic2\", \"Topic2\", \"Topic2\", \"Topic2\", \"Topic2\", \"Topic2\", \"Topic2\", \"Topic2\", \"Topic2\", \"Topic2\", \"Topic2\", \"Topic2\", \"Topic2\", \"Topic2\", \"Topic2\", \"Topic2\", \"Topic2\", \"Topic2\", \"Topic2\", \"Topic2\", \"Topic2\", \"Topic2\", \"Topic2\", \"Topic2\", \"Topic2\", \"Topic2\", \"Topic2\", \"Topic2\", \"Topic2\", \"Topic2\", \"Topic2\", \"Topic2\", \"Topic2\", \"Topic2\", \"Topic2\", \"Topic2\", \"Topic2\", \"Topic2\", \"Topic2\", \"Topic2\", \"Topic2\", \"Topic2\", \"Topic2\", \"Topic2\", \"Topic2\", \"Topic2\", \"Topic2\", \"Topic2\", \"Topic2\", \"Topic2\", \"Topic2\", \"Topic2\", \"Topic2\", \"Topic2\", \"Topic2\", \"Topic2\", \"Topic2\", \"Topic2\", \"Topic2\", \"Topic2\", \"Topic2\", \"Topic2\", \"Topic2\", \"Topic2\", \"Topic2\", \"Topic2\", \"Topic2\", \"Topic2\", \"Topic2\", \"Topic2\", \"Topic2\", \"Topic2\", \"Topic2\", \"Topic2\", \"Topic2\", \"Topic2\", \"Topic2\", \"Topic2\", \"Topic2\", \"Topic2\", \"Topic2\", \"Topic2\", \"Topic3\", \"Topic3\", \"Topic3\", \"Topic3\", \"Topic3\", \"Topic3\", \"Topic3\", \"Topic3\", \"Topic3\", \"Topic3\", \"Topic3\", \"Topic3\", \"Topic3\", \"Topic3\", \"Topic3\", \"Topic3\", \"Topic3\", \"Topic3\", \"Topic3\", \"Topic3\", \"Topic3\", \"Topic3\", \"Topic3\", \"Topic3\", \"Topic3\", \"Topic3\", \"Topic3\", \"Topic3\", \"Topic3\", \"Topic3\", \"Topic3\", \"Topic3\", \"Topic3\", \"Topic3\", \"Topic3\", \"Topic3\", \"Topic3\", \"Topic3\", \"Topic3\", \"Topic3\", \"Topic3\", \"Topic3\", \"Topic3\", \"Topic3\", \"Topic3\", \"Topic3\", \"Topic3\", \"Topic3\", \"Topic3\", \"Topic3\", \"Topic3\", \"Topic3\", \"Topic3\", \"Topic3\", \"Topic3\", \"Topic3\", \"Topic3\", \"Topic3\", \"Topic3\", \"Topic3\", \"Topic3\", \"Topic3\", \"Topic3\", \"Topic3\", \"Topic3\", \"Topic3\", \"Topic3\", \"Topic3\", \"Topic3\", \"Topic3\", \"Topic3\", \"Topic3\", \"Topic3\", \"Topic3\", \"Topic3\", \"Topic3\", \"Topic3\", \"Topic3\", \"Topic3\", \"Topic3\", \"Topic3\", \"Topic3\", \"Topic3\", \"Topic3\", \"Topic3\", \"Topic3\", \"Topic3\", \"Topic3\", \"Topic3\", \"Topic3\", \"Topic3\", \"Topic3\", \"Topic3\", \"Topic3\", \"Topic3\", \"Topic3\", \"Topic3\", \"Topic3\", \"Topic3\", \"Topic3\", \"Topic3\", \"Topic3\", \"Topic3\", \"Topic3\", \"Topic3\", \"Topic3\", \"Topic3\", \"Topic4\", \"Topic4\", \"Topic4\", \"Topic4\", \"Topic4\", \"Topic4\", \"Topic4\", \"Topic4\", \"Topic4\", \"Topic4\", \"Topic4\", \"Topic4\", \"Topic4\", \"Topic4\", \"Topic4\", \"Topic4\", \"Topic4\", \"Topic4\", \"Topic4\", \"Topic4\", \"Topic4\", \"Topic4\", \"Topic4\", \"Topic4\", \"Topic4\", \"Topic4\", \"Topic4\", \"Topic4\", \"Topic4\", \"Topic4\", \"Topic4\", \"Topic4\", \"Topic4\", \"Topic4\", \"Topic4\", \"Topic4\", \"Topic4\", \"Topic4\", \"Topic4\", \"Topic4\", \"Topic4\", \"Topic4\", \"Topic4\", \"Topic4\", \"Topic4\", \"Topic4\", \"Topic4\", \"Topic4\", \"Topic4\", \"Topic4\", \"Topic4\", \"Topic4\", \"Topic4\", \"Topic4\", \"Topic4\", \"Topic4\", \"Topic4\", \"Topic4\", \"Topic4\", \"Topic4\", \"Topic4\", \"Topic4\", \"Topic4\", \"Topic4\", \"Topic4\", \"Topic4\", \"Topic4\", \"Topic4\", \"Topic4\", \"Topic4\", \"Topic4\", \"Topic4\", \"Topic4\", \"Topic4\", \"Topic4\", \"Topic4\", \"Topic4\", \"Topic4\", \"Topic4\", \"Topic4\", \"Topic4\", \"Topic4\", \"Topic4\", \"Topic4\", \"Topic4\", \"Topic4\", \"Topic4\", \"Topic4\", \"Topic4\", \"Topic4\", \"Topic4\", \"Topic4\", \"Topic4\", \"Topic4\", \"Topic4\", \"Topic4\", \"Topic4\", \"Topic4\", \"Topic4\", \"Topic4\", \"Topic4\", \"Topic4\", \"Topic4\", \"Topic4\", \"Topic4\", \"Topic4\", \"Topic4\", \"Topic4\", \"Topic4\", \"Topic4\", \"Topic4\", \"Topic4\", \"Topic4\", \"Topic4\", \"Topic4\", \"Topic4\", \"Topic4\", \"Topic4\", \"Topic4\", \"Topic4\", \"Topic4\", \"Topic4\", \"Topic4\", \"Topic5\", \"Topic5\", \"Topic5\", \"Topic5\", \"Topic5\", \"Topic5\", \"Topic5\", \"Topic5\", \"Topic5\", \"Topic5\", \"Topic5\", \"Topic5\", \"Topic5\", \"Topic5\", \"Topic5\", \"Topic5\", \"Topic5\", \"Topic5\", \"Topic5\", \"Topic5\", \"Topic5\", \"Topic5\", \"Topic5\", \"Topic5\", \"Topic5\", \"Topic5\", \"Topic5\", \"Topic5\", \"Topic5\", \"Topic5\", \"Topic5\", \"Topic5\", \"Topic5\", \"Topic5\", \"Topic5\", \"Topic5\", \"Topic5\", \"Topic5\", \"Topic5\", \"Topic5\", \"Topic5\", \"Topic5\", \"Topic5\", \"Topic5\", \"Topic5\", \"Topic5\", \"Topic5\", \"Topic5\", \"Topic5\", \"Topic5\", \"Topic5\", \"Topic5\", \"Topic5\", \"Topic5\", \"Topic5\", \"Topic5\", \"Topic5\", \"Topic5\", \"Topic5\", \"Topic5\", \"Topic5\", \"Topic5\", \"Topic5\", \"Topic5\", \"Topic5\", \"Topic5\", \"Topic5\", \"Topic5\", \"Topic5\", \"Topic5\", \"Topic5\", \"Topic5\", \"Topic5\", \"Topic5\", \"Topic5\", \"Topic5\", \"Topic5\", \"Topic5\", \"Topic5\", \"Topic5\", \"Topic5\", \"Topic5\", \"Topic5\", \"Topic5\", \"Topic5\", \"Topic5\", \"Topic5\", \"Topic5\", \"Topic5\", \"Topic5\", \"Topic5\", \"Topic5\", \"Topic5\", \"Topic5\", \"Topic5\", \"Topic5\", \"Topic5\", \"Topic5\", \"Topic5\", \"Topic5\", \"Topic5\", \"Topic5\", \"Topic5\", \"Topic5\", \"Topic5\", \"Topic5\", \"Topic5\", \"Topic5\", \"Topic5\"], \"logprob\": [100.0, 99.0, 98.0, 97.0, 96.0, 95.0, 94.0, 93.0, 92.0, 91.0, 90.0, 89.0, 88.0, 87.0, 86.0, 85.0, 84.0, 83.0, 82.0, 81.0, 80.0, 79.0, 78.0, 77.0, 76.0, 75.0, 74.0, 73.0, 72.0, 71.0, 70.0, 69.0, 68.0, 67.0, 66.0, 65.0, 64.0, 63.0, 62.0, 61.0, 60.0, 59.0, 58.0, 57.0, 56.0, 55.0, 54.0, 53.0, 52.0, 51.0, 50.0, 49.0, 48.0, 47.0, 46.0, 45.0, 44.0, 43.0, 42.0, 41.0, 40.0, 39.0, 38.0, 37.0, 36.0, 35.0, 34.0, 33.0, 32.0, 31.0, 30.0, 29.0, 28.0, 27.0, 26.0, 25.0, 24.0, 23.0, 22.0, 21.0, 20.0, 19.0, 18.0, 17.0, 16.0, 15.0, 14.0, 13.0, 12.0, 11.0, 10.0, 9.0, 8.0, 7.0, 6.0, 5.0, 4.0, 3.0, 2.0, 1.0, -5.6053, -6.0348, -5.6059, -6.2542, -6.2542, -6.2542, -6.2542, -6.2542, -6.2542, -6.2542, -6.2542, -6.2542, -6.2542, -6.2542, -6.2542, -6.2542, -6.2542, -6.2542, -6.2542, -6.2542, -6.2542, -6.2542, -6.2542, -6.2542, -6.2542, -6.2542, -6.2542, -6.2542, -6.2542, -6.2542, -6.2542, -6.2542, -6.2542, -6.2542, -6.2542, -6.2542, -6.2542, -6.2542, -6.2542, -6.2542, -6.2542, -6.2542, -6.2542, -6.2542, -6.2542, -6.2542, -6.2542, -6.2542, -6.2542, -6.2542, -6.2542, -6.2542, -6.2542, -6.2542, -6.2542, -6.2542, -6.2542, -6.2542, -6.2542, -6.2542, -6.2542, -6.2542, -6.2542, -6.2542, -6.2542, -6.2542, -6.2542, -6.2542, -6.2542, -6.2542, -6.2542, -6.2542, -6.2542, -6.2542, -6.2542, -6.2542, -6.2542, -6.2542, -6.2542, -6.2542, -6.2542, -6.2542, -6.2542, -6.2542, -6.2542, -6.2542, -6.2542, -6.2542, -6.2542, -6.2542, -6.2542, -6.2542, -6.2542, -6.2542, -6.2542, -6.2542, -6.2542, -6.2542, -6.2542, -6.2542, -6.0348, -6.0348, -6.2542, -6.2542, -4.9626, -5.6937, -6.2447, -6.2447, -6.2447, -6.2447, -6.2447, -6.2447, -6.2447, -6.2447, -6.2447, -6.2447, -6.2447, -6.2447, -6.2447, -6.2447, -6.2447, -6.2447, -6.2447, -6.2447, -6.2447, -6.2447, -6.2447, -6.2447, -6.2447, -6.2447, -6.2447, -6.2447, -6.2447, -6.2447, -6.2447, -6.2447, -6.2447, -6.2447, -6.2447, -6.2447, -6.2447, -6.2447, -6.2447, -6.2447, -6.2447, -6.2447, -6.2447, -6.2447, -6.2447, -6.2447, -6.2447, -6.2447, -6.2447, -6.2447, -6.2447, -6.2447, -6.2447, -6.2447, -6.2447, -6.2447, -6.2447, -6.2447, -6.2447, -6.2447, -6.2447, -6.2447, -6.2447, -6.2447, -6.2447, -6.2447, -6.2447, -6.2447, -6.2447, -6.2447, -6.2447, -6.2447, -6.2447, -6.2447, -6.2447, -6.2447, -6.2447, -6.2447, -6.2447, -6.2447, -6.2447, -6.2447, -6.2447, -6.2447, -6.2447, -6.2447, -6.2447, -6.2447, -6.2447, -6.2447, -6.2447, -6.2447, -6.2447, -6.2447, -6.2447, -6.2447, -6.2447, -6.2447, -6.2447, -6.2447, -6.2431, -6.2447, -6.2447, -6.2447, -6.2447, -6.2447, -6.2447, -6.2447, -6.2447, -4.7898, -4.9699, -5.189, -5.189, -5.189, -5.189, -5.189, -5.189, -5.189, -5.189, -5.189, -5.1902, -5.1902, -5.1902, -5.7385, -6.292, -6.292, -6.292, -6.292, -6.292, -6.292, -6.292, -6.292, -6.292, -6.292, -6.292, -6.292, -6.292, -6.292, -6.292, -6.292, -6.292, -6.292, -6.292, -6.292, -6.292, -6.292, -6.292, -6.292, -6.292, -6.292, -6.292, -6.292, -6.292, -6.292, -6.292, -6.292, -6.292, -6.292, -6.292, -6.292, -6.292, -6.292, -6.292, -6.292, -6.292, -6.292, -6.292, -6.292, -6.292, -6.292, -6.292, -6.292, -6.292, -6.292, -6.292, -6.292, -6.292, -6.292, -6.292, -6.292, -6.292, -6.292, -6.292, -6.292, -6.292, -6.292, -6.292, -6.292, -6.292, -6.292, -6.292, -6.292, -6.292, -6.292, -6.292, -6.292, -6.292, -6.292, -6.292, -6.292, -6.292, -6.292, -6.292, -6.292, -6.292, -6.292, -6.292, -6.292, -6.292, -6.292, -6.292, -6.292, -6.292, -6.292, -6.292, -6.292, -5.0052, -5.0052, -5.0052, -5.0052, -5.2246, -5.2246, -5.2246, -5.2246, -5.2246, -5.2246, -5.2246, -5.2246, -5.2246, -5.2246, -5.2246, -5.2246, -5.2246, -5.2246, -5.2246, -5.2246, -5.2246, -5.2246, -5.2246, -5.2246, -5.2247, -5.2247, -5.7741, -5.7741, -5.7741, -5.7741, -6.3276, -6.3276, -6.3276, -6.3276, -6.3276, -6.3276, -6.3276, -6.3276, -6.3276, -6.3276, -6.3276, -6.3276, -6.3276, -6.3276, -6.3276, -6.3276, -6.3276, -6.3276, -6.3276, -6.3276, -6.3276, -6.3276, -6.3276, -6.3276, -6.3276, -6.3276, -6.3276, -6.3276, -6.3276, -6.3276, -6.3276, -6.3276, -6.3276, -6.3276, -6.3276, -6.3276, -6.3276, -6.3276, -6.3276, -6.3276, -6.3276, -6.3276, -6.3276, -6.3276, -6.3276, -6.3276, -6.3276, -6.3276, -6.3276, -6.3276, -6.3276, -6.3276, -6.3276, -6.3276, -6.3276, -6.3276, -6.3276, -6.3276, -6.3276, -6.3276, -6.3276, -6.3276, -6.3276, -6.3276, -6.3276, -6.3276, -6.3276, -6.3276, -6.3276, -6.3276, -6.3276, -6.3276, -6.3276, -6.3276, -6.3276, -6.3276, -6.3276, -6.3276, -6.3276, -6.3276, -6.3276, -6.3276, -6.3276, -6.3276, -6.3276, -6.3276, -6.3276, -6.3276, -6.3276, -6.3276, -6.3276, -6.3276, -6.3276, -4.9889, -4.9889, -4.9889, -4.4387, -5.2083, -5.2083, -5.2083, -5.2083, -5.2083, -5.2083, -5.2083, -5.2083, -5.2083, -5.2083, -5.2083, -5.2083, -5.2083, -5.2083, -5.2083, -5.2083, -5.2083, -5.2083, -5.2083, -5.2083, -5.2083, -5.2083, -5.7578, -5.7578, -5.7578, -5.7578, -6.3113, -6.3113, -6.3113, -6.3113, -6.3113, -6.3113, -6.3113, -6.3113, -6.3113, -6.3113, -6.3113, -6.3113, -6.3113, -6.3113, -6.3113, -6.3113, -6.3113, -6.3113, -6.3113, -6.3113, -6.3113, -6.3113, -6.3113, -6.3113, -6.3113, -6.3113, -6.3113, -6.3113, -6.3113, -6.3113, -6.3113, -6.3113, -6.3113, -6.3113, -6.3113, -6.3113, -6.3113, -6.3113, -6.3113, -6.3113, -6.3113, -6.3113, -6.3113, -6.3113, -6.3113, -6.3113, -6.3113, -6.3113, -6.3113, -6.3113, -6.3113, -6.3113, -6.3113, -6.3113, -6.3113, -6.3113, -6.3113, -6.3113, -6.3113, -6.3113, -6.3113, -6.3113, -6.3113, -6.3113, -6.3113, -6.3113, -6.3113, -6.3113, -6.3113, -6.3113, -6.3113, -6.3113, -6.3113, -6.3113, -6.3078, -6.3112, -6.3113, -6.3113, -6.3113], \"loglift\": [100.0, 99.0, 98.0, 97.0, 96.0, 95.0, 94.0, 93.0, 92.0, 91.0, 90.0, 89.0, 88.0, 87.0, 86.0, 85.0, 84.0, 83.0, 82.0, 81.0, 80.0, 79.0, 78.0, 77.0, 76.0, 75.0, 74.0, 73.0, 72.0, 71.0, 70.0, 69.0, 68.0, 67.0, 66.0, 65.0, 64.0, 63.0, 62.0, 61.0, 60.0, 59.0, 58.0, 57.0, 56.0, 55.0, 54.0, 53.0, 52.0, 51.0, 50.0, 49.0, 48.0, 47.0, 46.0, 45.0, 44.0, 43.0, 42.0, 41.0, 40.0, 39.0, 38.0, 37.0, 36.0, 35.0, 34.0, 33.0, 32.0, 31.0, 30.0, 29.0, 28.0, 27.0, 26.0, 25.0, 24.0, 23.0, 22.0, 21.0, 20.0, 19.0, 18.0, 17.0, 16.0, 15.0, 14.0, 13.0, 12.0, 11.0, 10.0, 9.0, 8.0, 7.0, 6.0, 5.0, 4.0, 3.0, 2.0, 1.0, 0.801, 0.7062, 0.6867, 0.6446, 0.6446, 0.6446, 0.6446, 0.6446, 0.6446, 0.6446, 0.6446, 0.6446, 0.6446, 0.6446, 0.6446, 0.6446, 0.6446, 0.6446, 0.6446, 0.6446, 0.6446, 0.6446, 0.6446, 0.6446, 0.6446, 0.6446, 0.6446, 0.6446, 0.6446, 0.6446, 0.6446, 0.6446, 0.6446, 0.6446, 0.6446, 0.6446, 0.6446, 0.6446, 0.6446, 0.6446, 0.6446, 0.6446, 0.6446, 0.6446, 0.6446, 0.6446, 0.6446, 0.6446, 0.6446, 0.6446, 0.6446, 0.6446, 0.6446, 0.6446, 0.6446, 0.6446, 0.6446, 0.6446, 0.6446, 0.6446, 0.6446, 0.6446, 0.6446, 0.6446, 0.6446, 0.6446, 0.6446, 0.6446, 0.6446, 0.6446, 0.6446, 0.6446, 0.6446, 0.6446, 0.6446, 0.6446, 0.6446, 0.6446, 0.6446, 0.6446, 0.6446, 0.6446, 0.6446, 0.6446, 0.6446, 0.6446, 0.6446, 0.6446, 0.6446, 0.6446, 0.6446, 0.6446, 0.6446, 0.6446, 0.6446, 0.6446, 0.6446, 0.6446, 0.6446, 0.6446, 0.4012, 0.3783, 0.4453, 0.4345, 1.5542, 1.203, 1.1692, 1.1692, 1.1692, 1.1692, 1.1692, 1.1692, 1.1692, 1.1692, 1.1692, 1.1692, 1.1692, 1.1692, 1.1692, 1.1692, 1.1692, 1.1692, 1.1692, 1.1692, 1.1692, 1.1692, 1.1692, 1.1692, 1.1692, 1.1692, 1.1692, 1.1692, 1.1692, 1.1692, 1.1692, 1.1692, 1.1692, 1.1692, 1.1692, 1.1692, 1.1692, 1.1692, 1.1692, 1.1692, 1.1692, 1.1692, 1.1692, 1.1692, 1.1692, 1.1692, 1.1692, 1.1692, 1.1692, 1.1692, 1.1692, 1.1692, 1.1692, 1.1692, 1.1692, 1.1692, 1.1692, 1.1692, 1.1692, 1.1692, 1.1692, 1.1692, 1.1692, 1.1692, 1.1692, 1.1692, 1.1692, 1.1692, 1.1692, 1.1692, 1.1692, 1.1692, 1.1692, 1.1692, 1.1692, 1.1692, 1.1692, 1.1692, 1.1692, 1.1692, 1.1692, 1.1692, 1.1692, 1.1692, 1.1692, 1.1692, 1.1692, 1.1692, 1.1692, 1.1692, 1.1692, 1.1692, 1.1692, 1.1692, 1.1692, 1.1692, 1.1692, 1.1692, 1.1692, 1.1692, 0.4455, 0.855, 0.4526, 0.8701, 0.8701, 0.8701, 1.1692, 1.1692, 1.1692, 1.6228, 1.5884, 1.5401, 1.5401, 1.5401, 1.5401, 1.5401, 1.5401, 1.5401, 1.5401, 1.5401, 1.5388, 1.5388, 1.5388, 1.3774, 1.1443, 1.1443, 1.1443, 1.1443, 1.1443, 1.1443, 1.1443, 1.1443, 1.1443, 1.1443, 1.1443, 1.1443, 1.1443, 1.1443, 1.1443, 1.1443, 1.1443, 1.1443, 1.1443, 1.1443, 1.1443, 1.1443, 1.1443, 1.1443, 1.1443, 1.1443, 1.1443, 1.1443, 1.1443, 1.1443, 1.1443, 1.1443, 1.1443, 1.1443, 1.1443, 1.1443, 1.1443, 1.1443, 1.1443, 1.1443, 1.1443, 1.1443, 1.1443, 1.1443, 1.1443, 1.1443, 1.1443, 1.1443, 1.1443, 1.1443, 1.1443, 1.1443, 1.1443, 1.1443, 1.1443, 1.1443, 1.1443, 1.1443, 1.1443, 1.1443, 1.1443, 1.1443, 1.1443, 1.1443, 1.1443, 1.1443, 1.1443, 1.1443, 1.1443, 1.1443, 1.1443, 1.1443, 1.1443, 1.1443, 1.1443, 1.1443, 1.1443, 1.1443, 1.1443, 1.1443, 1.1443, 1.1443, 1.1443, 1.1443, 1.1443, 1.1443, 1.1443, 1.1443, 1.1443, 1.1443, 1.1443, -0.2031, 1.5954, 1.5954, 1.5954, 1.5954, 1.5439, 1.5439, 1.5439, 1.5439, 1.5439, 1.5439, 1.5439, 1.5439, 1.5439, 1.5439, 1.5439, 1.5439, 1.5439, 1.5439, 1.5439, 1.5439, 1.5439, 1.5439, 1.5439, 1.5439, 1.5439, 1.5439, 1.3729, 1.3729, 1.3729, 1.3729, 1.13, 1.13, 1.13, 1.13, 1.13, 1.13, 1.13, 1.13, 1.13, 1.13, 1.13, 1.13, 1.13, 1.13, 1.13, 1.13, 1.13, 1.13, 1.13, 1.13, 1.13, 1.13, 1.13, 1.13, 1.13, 1.13, 1.13, 1.13, 1.13, 1.13, 1.13, 1.13, 1.13, 1.13, 1.13, 1.13, 1.13, 1.13, 1.13, 1.13, 1.13, 1.13, 1.13, 1.13, 1.13, 1.13, 1.13, 1.13, 1.13, 1.13, 1.13, 1.13, 1.13, 1.13, 1.13, 1.13, 1.13, 1.13, 1.13, 1.13, 1.13, 1.13, 1.13, 1.13, 1.13, 1.13, 1.13, 1.13, 1.13, 1.13, 1.13, 1.13, 1.13, 1.13, 1.13, 1.13, 1.13, 1.13, 1.13, 1.13, 1.13, 1.13, 1.13, 1.13, 1.13, 1.13, 1.13, 1.13, 0.7872, 0.8341, 0.3697, 0.8341, 0.7872, 1.6523, 1.6523, 1.6523, 1.6501, 1.598, 1.598, 1.598, 1.598, 1.598, 1.598, 1.598, 1.598, 1.598, 1.598, 1.598, 1.598, 1.598, 1.598, 1.598, 1.598, 1.598, 1.598, 1.598, 1.598, 1.598, 1.598, 1.4187, 1.4187, 1.4187, 1.4187, 1.1664, 1.1664, 1.1664, 1.1664, 1.1664, 1.1664, 1.1664, 1.1664, 1.1664, 1.1664, 1.1664, 1.1664, 1.1664, 1.1664, 1.1664, 1.1664, 1.1664, 1.1664, 1.1664, 1.1664, 1.1664, 1.1664, 1.1664, 1.1664, 1.1664, 1.1664, 1.1664, 1.1664, 1.1664, 1.1664, 1.1664, 1.1664, 1.1664, 1.1664, 1.1663, 1.1663, 1.1663, 1.1663, 1.1663, 1.1663, 1.1663, 1.1663, 1.1663, 1.1663, 1.1663, 1.1663, 1.1663, 1.1663, 1.1663, 1.1663, 1.1663, 1.1663, 1.1663, 1.1663, 1.1663, 1.1663, 1.1663, 1.1663, 1.1663, 1.1663, 1.1663, 1.1663, 1.1663, 1.1663, 1.1663, 1.1663, 1.1663, 1.1663, 1.1663, 1.1663, 1.1663, 1.1663, 1.1663, 1.1663, -0.0152, 0.1248, 0.8177, 0.386, 0.8504]}, \"token.table\": {\"Topic\": [5, 4, 5, 1, 1, 1, 4, 1, 1, 1, 1, 1, 5, 1, 4, 1, 1, 4, 3, 1, 1, 4, 1, 1, 5, 5, 3, 5, 1, 3, 5, 1, 1, 1, 4, 1, 1, 1, 1, 1, 3, 4, 4, 5, 5, 4, 5, 4, 1, 1, 1, 1, 1, 5, 5, 1, 1, 1, 4, 1, 1, 4, 4, 1, 5, 4, 1, 5, 1, 1, 1, 1, 1, 1, 1, 1, 3, 1, 1, 1, 5, 5, 5, 1, 1, 1, 1, 1, 1, 3, 1, 4, 4, 5, 1, 1, 1, 1, 1, 1, 4, 1, 1, 4, 1, 1, 1, 5, 1, 1, 5, 5, 3, 5, 1, 1, 5, 5, 1, 3, 4, 3, 4, 1, 4, 2, 5, 4, 1, 1, 1, 1, 5, 3, 4, 1, 2, 1, 5, 3, 1, 1, 1, 1, 1, 5, 1, 1, 1, 1, 1, 4, 4, 1, 1, 4, 3, 1, 1, 1, 5, 4, 1, 1, 3, 3, 4, 1, 4, 5, 4, 3, 1, 1, 1, 1, 1, 1, 1, 1, 1, 1], \"Freq\": [0.6566507679236201, 0.9231577838805594, 0.6566515905093442, 0.7202798637489787, 0.7202798637489787, 0.7202798637489787, 0.6323066407761418, 0.7202799515374817, 0.7202799515374817, 0.7202799515374817, 0.7202799515374817, 0.7202799515374817, 0.6566507679236201, 0.5837733028240423, 0.9231580510527163, 0.7202799515374817, 0.7202798637489787, 0.6323067581168168, 0.6078428485514453, 0.7202798637489787, 0.7202798637489787, 0.6323066407761418, 0.7202799515374817, 0.7202798637489787, 0.556683351394969, 0.6566507679236201, 0.6078428485514453, 0.6566515905093442, 0.7202799515374817, 0.6078428485514453, 0.6566520329061053, 0.7202799515374817, 0.7202798637489787, 0.7202798637489787, 0.6323066407761418, 0.7202798637489787, 0.7202799515374817, 0.7202799515374817, 0.7202799515374817, 0.7202798637489787, 0.6078428485514453, 0.6323066407761418, 0.6323079323300513, 0.6566507679236201, 0.556683337056081, 0.6323067581168168, 0.6566515905093442, 0.6323066407761418, 0.7202799515374817, 0.7202799515374817, 0.7202798637489787, 0.7202799515374817, 0.7202799515374817, 0.6566507679236201, 0.6566507707325129, 0.7202799515374817, 0.7202798637489787, 0.7202798637489787, 0.6323067581168168, 0.7202799515374817, 0.7202798637489787, 0.6323067581168168, 0.6323066407761418, 0.7202799515374817, 0.6566507707325129, 0.6323067581168168, 0.7202798637489787, 0.6566507679236201, 0.7202798637489787, 0.7202798637489787, 0.7202798637489787, 0.7202799515374817, 0.7202799515374817, 0.7202799515374817, 0.7202799515374817, 0.7202799515374817, 0.6078428485514453, 0.7202799515374817, 0.7202799515374817, 0.7202799515374817, 0.6566507707325129, 0.950804813114629, 0.6566515905093442, 0.7202798637489787, 0.7202798637489787, 0.7202798637489787, 0.7202798637489787, 0.6151184327037821, 0.7202798637489787, 0.6078160639765676, 0.7202798637489787, 0.6323066407761418, 0.6323067581168168, 0.6566520329061053, 0.7202799515374817, 0.7202798637489787, 0.7202798637489787, 0.7202798637489787, 0.7202799515374817, 0.7202799515374817, 0.9231578594372292, 0.7202799515374817, 0.7202799515374817, 0.5345488763507471, 0.7202798637489787, 0.7202798637489787, 0.7202798637489787, 0.6566507707325129, 0.7202799515374817, 0.7202799515374817, 0.6566507679236201, 0.5566833410499882, 0.6078428485514453, 0.9508012026411499, 0.7202799515374817, 0.7202798637489787, 0.6566520329061053, 0.6566507679236201, 0.7202798637489787, 0.8858194734430541, 0.6323066407761418, 0.8949155761096775, 0.5345494097970555, 0.7856932274144487, 0.6323074900944426, 0.7187465182663225, 0.6408846487355375, 0.6323067581168168, 0.7202798637489787, 0.8803074589072769, 0.7202798637489787, 0.4534363305356361, 0.9508051613079377, 0.6078160639765676, 0.9231576735533618, 0.7202798637489787, 0.9830917790637244, 0.7202799515374817, 0.6566507679236201, 1.0248506656681542, 0.7202798637489787, 0.7202798637489787, 0.7202799515374817, 0.7202798637489787, 0.7202798637489787, 0.6566507707325129, 0.5837089631187103, 0.7202798637489787, 0.7202799515374817, 0.7202799515374817, 0.7202799515374817, 0.6323074900944426, 0.6323067581168168, 0.5901065481584412, 0.4431435867581245, 0.5345493251205238, 0.6078428485514453, 0.7202799515374817, 0.7202799515374817, 0.7202799515374817, 0.9508063483806127, 0.6323074900944426, 0.7202798637489787, 0.7202798637489787, 0.6078160639765676, 0.6078428485514453, 0.5345488863929636, 0.7202799515374817, 0.6323066407761418, 0.6566507707325129, 0.6323079323300513, 0.6078428485514453, 0.7202799515374817, 0.7202798637489787, 0.7202798637489787, 0.7202798637489787, 0.7202798637489787, 0.7202798637489787, 0.7202799515374817, 0.7202799515374817, 0.7202798637489787, 0.7202798637489787], \"Term\": [\"abrir_muito_ruim\", \"acesso_certificar_vacinacao\", \"acesso_fazer_ter\", \"achar_errar_app\", \"achar_pessoa_nao\", \"achei_pouco_util\", \"agora_precisar_viajar\", \"agora_sistema_comunidades\", \"ai_pessoa_preciso\", \"aparecer_negativar_espelhar\", \"aparecer_vacinar_covid\", \"aplicativo_impossivel_usar\", \"aplicativo_nao_abrir\", \"aplicativo_nao_conseguir\", \"aplicativo_nao_mostrar\", \"app_aparecer_negativar\", \"app_coletar_localizacao\", \"app_entanto_app\", \"app_mais_umar\", \"app_mostrar_vacinar\", \"app_nao_funcionar\", \"astrazeneca_lancar_corretamente\", \"ate_agora_sistema\", \"ativos_celular_achar\", \"atualizacao_nao_conseguir\", \"atualizacao_ontem_nao\", \"baixei_nao_conseguir\", \"bloquear_contar_acesso\", \"cadastrar_comer_ter\", \"cadastrar_falir_serio\", \"cadastrar_horar_pedir\", \"cadastrar_pedir_senha\", \"causar_passaporte_ir\", \"celular_achar_errar\", \"certificar_agora_precisar\", \"coletar_localizacao_usa\", \"colocar_esquecer_senha\", \"comer_ter_senha\", \"comunidades_estao_mesmo\", \"concordar_nao_ter\", \"conseguir_cadastrar_falir\", \"conseguir_certificar_agora\", \"conseguir_entrar_jeito\", \"conseguir_mais_entrar\", \"conseguir_mais_fazer\", \"constar_app_entanto\", \"contar_acesso_fazer\", \"corretamente_nao_conseguir\", \"covid_dar_positivar\", \"covid_ja_tomar\", \"credito_ativos_celular\", \"dar_estrelo_pq\", \"dar_positivar_app\", \"depois_atualizacao_ontem\", \"depois_ultimo_atualizacao\", \"desejar_nao_sair\", \"dever_gratuito_usar\", \"devir_privar_ver\", \"dia_hoje_nao\", \"dia_ja_duas\", \"dinheiro_usar_app\", \"dosar_reforcar_dia\", \"dose_heterogenias_astrazeneca\", \"duas_reclamacoes_ate\", \"emitir_certificar_vacinacao\", \"entanto_app_constar\", \"entao_precisar_ficar\", \"entrar_aplicativo_nao\", \"entrar_locar_causar\", \"errar_app_coletar\", \"escolher_achei_pouco\", \"espelhar_servico_publico\", \"esquecer_senha_ir\", \"estao_mesmo_nao\", \"estrelo_pq_fazer\", \"exame_covid_dar\", \"falir_serio_tipo\", \"fazer_aplicativo_impossivel\", \"fazer_cadastrar_comer\", \"fazer_cadastrar_pedir\", \"fazer_login_preciso\", \"fazer_login_so\", \"fazer_ter_voltar\", \"ficar_gastar_dinheiro\", \"forcar_nao_concordar\", \"funcao_app_nao\", \"funcionar_internet_entao\", \"funcionar_nao_conseguir\", \"gastar_dinheiro_usar\", \"gostar_nao_ter\", \"gratuito_usar_independente\", \"heterogenias_astrazeneca_lancar\", \"hoje_nao_constar\", \"horar_pedir_capcha\", \"impossivel_usar_pessoa\", \"independente_ter_credito\", \"internet_entao_precisar\", \"ir_direito_humano\", \"ir_tela_pessoa\", \"ja_duas_reclamacoes\", \"ja_tomar_dois\", \"ja_tomar_exame\", \"ja_unidade_dia\", \"lancar_corretamente_nao\", \"lo_achar_pessoa\", \"localizacao_usa_lo\", \"locar_causar_passaporte\", \"login_preciso_emitir\", \"longe_util_querer\", \"lugar_ai_pessoa\", \"mais_entrar_aplicativo\", \"mais_fazer_login\", \"mais_umar_perder\", \"marcar_consulto_exame\", \"mesmo_nao_resolve\", \"mostrar_vacinar_dever\", \"muito_cadastrar_horar\", \"nao_abrir_muito\", \"nao_concordar_nao\", \"nao_conseguir_cadastrar\", \"nao_conseguir_certificar\", \"nao_conseguir_conectar\", \"nao_conseguir_entrar\", \"nao_conseguir_fazer\", \"nao_conseguir_funcionar\", \"nao_conseguir_logar\", \"nao_conseguir_mais\", \"nao_constar_app\", \"nao_devir_privar\", \"nao_fazer_login\", \"nao_funcionar_internet\", \"nao_funcionar_nao\", \"nao_funcionar_quando\", \"nao_gostar_nao\", \"nao_mostrar_vacinar\", \"nao_ter_escolher\", \"nao_ter_opcao\", \"negativar_espelhar_servico\", \"ontem_nao_conseguir\", \"opcao_criar_contar\", \"passaporte_ir_direito\", \"pessoa_nao_devir\", \"positivar_app_aparecer\", \"pouco_util_funcao\", \"precisar_ficar_gastar\", \"preciso_emitir_certificar\", \"primeiro_dosar_vacinar\", \"privar_ver_entrar\", \"publico_sim_ja\", \"querer_aparecer_vacinar\", \"reclamacoes_ate_agora\", \"recuperar_senha_nao\", \"reforcar_dia_hoje\", \"segundo_dosar_dia\", \"segundo_dosar_vacinar\", \"senha_nao_conseguir\", \"serio_tipo_app\", \"servico_publico_sim\", \"sim_ja_unidade\", \"sistema_comunidades_estao\", \"tela_ficar_branco\", \"tentar_recuperar_senha\", \"ter_credito_ativos\", \"ter_escolher_achei\", \"ter_opcao_criar\", \"tipo_app_mais\", \"tomar_dosar_reforcar\", \"tomar_exame_covid\", \"tomei_dose_heterogenias\", \"ultimo_atualizacao_nao\", \"uma_nao_conseguir\", \"umar_perder_tempo\", \"unidade_dia_ja\", \"usa_lo_achar\", \"usar_app_mostrar\", \"usar_independente_ter\", \"uso_forcar_nao\", \"util_funcao_app\", \"util_querer_aparecer\", \"vacinar_covid_ja\", \"vacinar_dever_gratuito\", \"ver_entrar_locar\"]}, \"R\": 100, \"lambda.step\": 0.01, \"plot.opts\": {\"xlab\": \"PC1\", \"ylab\": \"PC2\"}, \"topic.order\": [4, 3, 5, 1, 2]};\n",
       "\n",
       "function LDAvis_load_lib(url, callback){\n",
       "  var s = document.createElement('script');\n",
       "  s.src = url;\n",
       "  s.async = true;\n",
       "  s.onreadystatechange = s.onload = callback;\n",
       "  s.onerror = function(){console.warn(\"failed to load library \" + url);};\n",
       "  document.getElementsByTagName(\"head\")[0].appendChild(s);\n",
       "}\n",
       "\n",
       "if(typeof(LDAvis) !== \"undefined\"){\n",
       "   // already loaded: just create the visualization\n",
       "   !function(LDAvis){\n",
       "       new LDAvis(\"#\" + \"ldavis_el1001402264054847522887421180\", ldavis_el1001402264054847522887421180_data);\n",
       "   }(LDAvis);\n",
       "}else if(typeof define === \"function\" && define.amd){\n",
       "   // require.js is available: use it to load d3/LDAvis\n",
       "   require.config({paths: {d3: \"https://d3js.org/d3.v5\"}});\n",
       "   require([\"d3\"], function(d3){\n",
       "      window.d3 = d3;\n",
       "      LDAvis_load_lib(\"https://cdn.jsdelivr.net/gh/bmabey/pyLDAvis@3.3.1/pyLDAvis/js/ldavis.v3.0.0.js\", function(){\n",
       "        new LDAvis(\"#\" + \"ldavis_el1001402264054847522887421180\", ldavis_el1001402264054847522887421180_data);\n",
       "      });\n",
       "    });\n",
       "}else{\n",
       "    // require.js not available: dynamically load d3 & LDAvis\n",
       "    LDAvis_load_lib(\"https://d3js.org/d3.v5.js\", function(){\n",
       "         LDAvis_load_lib(\"https://cdn.jsdelivr.net/gh/bmabey/pyLDAvis@3.3.1/pyLDAvis/js/ldavis.v3.0.0.js\", function(){\n",
       "                 new LDAvis(\"#\" + \"ldavis_el1001402264054847522887421180\", ldavis_el1001402264054847522887421180_data);\n",
       "            })\n",
       "         });\n",
       "}\n",
       "</script>"
      ],
      "text/plain": [
       "PreparedData(topic_coordinates=              x         y  topics  cluster       Freq\n",
       "topic                                                \n",
       "3      0.174034  0.037971       1        1  36.567108\n",
       "2     -0.006407  0.018804       2        1  16.445973\n",
       "4     -0.088249 -0.038415       3        1  16.266633\n",
       "0     -0.077178  0.074856       4        1  15.915361\n",
       "1     -0.002201 -0.093216       5        1  14.804925, topic_info=                          Term      Freq     Total Category   logprob  \\\n",
       "481         nao_conseguir_mais  3.000000  3.000000  Default  100.0000   \n",
       "140    nao_conseguir_cadastrar  2.000000  2.000000  Default   99.0000   \n",
       "161         opcao_criar_contar  1.000000  1.000000  Default   98.0000   \n",
       "139              nao_ter_opcao  2.000000  2.000000  Default   97.0000   \n",
       "745  atualizacao_nao_conseguir  1.000000  1.000000  Default   96.0000   \n",
       "..                         ...       ...       ...      ...       ...   \n",
       "68         nao_conseguir_fazer  0.371185  2.545523   Topic5   -6.3078   \n",
       "602          nao_funcionar_nao  0.369915  2.205381   Topic5   -6.3112   \n",
       "63     cadastrar_nao_conseguir  0.369896  1.102916   Topic5   -6.3113   \n",
       "618          ficar_tela_branco  0.369894  1.698345   Topic5   -6.3113   \n",
       "283      nao_conseguir_acessar  0.369894  1.067437   Topic5   -6.3113   \n",
       "\n",
       "      loglift  \n",
       "481  100.0000  \n",
       "140   99.0000  \n",
       "161   98.0000  \n",
       "139   97.0000  \n",
       "745   96.0000  \n",
       "..        ...  \n",
       "68    -0.0152  \n",
       "602    0.1248  \n",
       "63     0.8177  \n",
       "618    0.3860  \n",
       "283    0.8504  \n",
       "\n",
       "[652 rows x 6 columns], token_table=      Topic      Freq                         Term\n",
       "term                                              \n",
       "1258      5  0.656651             abrir_muito_ruim\n",
       "294       4  0.923158  acesso_certificar_vacinacao\n",
       "1100      5  0.656652             acesso_fazer_ter\n",
       "1130      1  0.720280              achar_errar_app\n",
       "1131      1  0.720280             achar_pessoa_nao\n",
       "...     ...       ...                          ...\n",
       "1177      1  0.720280              util_funcao_app\n",
       "1055      1  0.720280         util_querer_aparecer\n",
       "1056      1  0.720280             vacinar_covid_ja\n",
       "1178      1  0.720280       vacinar_dever_gratuito\n",
       "1179      1  0.720280             ver_entrar_locar\n",
       "\n",
       "[182 rows x 3 columns], R=100, lambda_step=0.01, plot_opts={'xlab': 'PC1', 'ylab': 'PC2'}, topic_order=[4, 3, 5, 1, 2])"
      ]
     },
     "execution_count": 29,
     "metadata": {},
     "output_type": "execute_result"
    }
   ],
   "source": [
    "pyLDAvis.enable_notebook()\n",
    "vis = pyLDAvis.gensim_models.prepare(lda_model_ngram, corpus_ngram, id2ngram, mds=\"mmds\", R=100)\n",
    "vis"
   ]
  },
  {
   "cell_type": "code",
   "execution_count": null,
   "id": "186b72dd-10b6-4c97-81bd-93de03d597d7",
   "metadata": {},
   "outputs": [],
   "source": []
  }
 ],
 "metadata": {
  "kernelspec": {
   "display_name": "Python 3 (ipykernel)",
   "language": "python",
   "name": "python3"
  },
  "language_info": {
   "codemirror_mode": {
    "name": "ipython",
    "version": 3
   },
   "file_extension": ".py",
   "mimetype": "text/x-python",
   "name": "python",
   "nbconvert_exporter": "python",
   "pygments_lexer": "ipython3",
   "version": "3.7.10"
  }
 },
 "nbformat": 4,
 "nbformat_minor": 5
}
